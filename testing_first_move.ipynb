{
 "cells": [
  {
   "cell_type": "code",
   "execution_count": 8,
   "metadata": {
    "collapsed": true
   },
   "outputs": [],
   "source": [
    "import pandas as pd\n",
    "import numpy as np\n",
    "import tensorflow as tf\n",
    "\n",
    "from tools import Tools\n",
    "from model import Model\n",
    "import json\n",
    "from test import test\n",
    "import matplotlib.pylab as plt"
   ]
  },
  {
   "cell_type": "code",
   "execution_count": 4,
   "metadata": {
    "collapsed": true
   },
   "outputs": [],
   "source": [
    "def get_data(index, cf):\n",
    "    begin_cf = cf.columns.get_loc(\"0\")\n",
    "    data_array = cf.iloc[index, begin_cf:begin_cf+167].values\n",
    "    N = len(data_array)\n",
    "\n",
    "    nr_joints = len(eval(data_array[0]))\n",
    "\n",
    "    data = np.zeros((N,nr_joints,2))\n",
    "\n",
    "    for j in range(N):\n",
    "        if not pd.isnull(data_array[j]):\n",
    "            data[j]=np.array(eval(data_array[j]))\n",
    "        else:\n",
    "            data[j] = data[j-1]\n",
    "    return data"
   ]
  },
  {
   "cell_type": "code",
   "execution_count": null,
   "metadata": {
    "collapsed": false,
    "scrolled": true
   },
   "outputs": [],
   "source": [
    "def get_joint_array(csv_file_path, files, player, dic_test):\n",
    "    cf = pd.read_csv(csv_file_path)\n",
    "    # cf = pd.read_csv(\"/Users/ninawiedemann/Desktop/UNI/Praktikum/ALL/cf_data.csv\")\n",
    "    cf_player = cf[cf[\"Player\"]==player]\n",
    "    games = cf_player[\"Game\"].values.tolist()\n",
    "    positions = cf_player[\"Pitching Position (P)\"].values\n",
    "    joints_array = []\n",
    "    lab_test = []\n",
    "    position = []\n",
    "    # pitch_type = []\n",
    "    for i, game in enumerate(files):\n",
    "        # print(game)\n",
    "        try:\n",
    "            ind = games.index(game)\n",
    "            position.append(positions[ind])\n",
    "            #pitch_type.append(pitchtypes[ind])\n",
    "            joints_array.append(get_data(ind, cf_player))\n",
    "            lab_test.append(dic_test[game])\n",
    "        except:\n",
    "            continue\n",
    "    return np.array(joints_array), lab_test\n",
    "\n",
    "def testing(files, dic, restore_path):\n",
    "    joints, labels = get_joint_array(\"/Users/ninawiedemann/Desktop/UNI/Praktikum/ALL/sv_data.csv\", files, \"Pitcher\", dic)\n",
    "    print(joints.shape)\n",
    "    joints_rel = joints[:, :, [7,8,10,11],:]\n",
    "    joints_rel = Tools.normalize(joints_rel)\n",
    "    print(joints_rel.shape, np.array(labels).shape)\n",
    "    data = []\n",
    "    for bsp in joints_rel:\n",
    "        for i in range(14):\n",
    "            data.append(bsp[i*10:(i+2)*10])\n",
    "    data = np.array(data)\n",
    "    #np.save(\"/Users/ninawiedemann/Desktop/UNI/Praktikum/ALL/notebooks/bsp_data.npy\", data)\n",
    "    #np.save(\"/Users/ninawiedemann/Desktop/UNI/Praktikum/ALL/notebooks/bsp_labels.npy\", labels)\n",
    "    print(data.shape)\n",
    "    # data = Tools.normalize(data)\n",
    "    lab, out = test(data, restore_path)\n",
    "    print(\"out\", out.shape)\n",
    "    # print(out)\n",
    "    truth_val = out[:, 1]\n",
    "    r = 0\n",
    "    for l in range(len(labels)):\n",
    "        res = []\n",
    "        for i in range(14):\n",
    "            res.append(truth_val[(l*14)+i])\n",
    "        result = (np.argmax(res)+1)*10\n",
    "        print(\"result \", result, labels[l], \"label\")\n",
    "        if abs(result-labels[l])<10:\n",
    "            r+=1\n",
    "        else: \n",
    "            for jo in range(4):\n",
    "                plt.plot(joints_rel[l,:,jo,0])\n",
    "            plt.show()\n",
    "            plt.title(\"Y\")\n",
    "            for jo in range(4):\n",
    "                plt.plot(joints_rel[l,:,jo,1])\n",
    "            plt.show()\n",
    "            plt.title(\"X\")\n",
    "    print(\"Accuracy: \", r/float(len(labels)))\n",
    "\n",
    "with open(\"/Users/ninawiedemann/Desktop/UNI/Praktikum/ALL/notebooks/first_move_frames.json\", \"r\") as infile:\n",
    "    dic_lab = json.load(infile)\n",
    "all_files = list(dic_lab.keys())\n",
    "print(len(all_files))\n",
    "# files = all_files[:-10]\n",
    "# print(len(all_files))\n",
    "# print(all_files[:10])\n",
    "\n",
    "testing(all_files, dic_lab, \"/Users/ninawiedemann/Desktop/UNI/Praktikum/saved_models/first_move\")"
   ]
  },
  {
   "cell_type": "code",
   "execution_count": 19,
   "metadata": {
    "collapsed": false
   },
   "outputs": [
    {
     "name": "stderr",
     "output_type": "stream",
     "text": [
      "/Users/ninawiedemann/anaconda/lib/python3.5/site-packages/IPython/core/interactiveshell.py:2717: DtypeWarning: Columns (461,462,463,464,465,466,467,468,469,470,471,472,473,474,475,476,477,478,479,480,481,482,483,484,485,486,487,488,489,490,491,492,493,494,495,496,497,498,499,500,501,502,503,504,505,506,507,508,509,510,511,512,513,514,515,516,517,518,519,520,521,522,523,524,525,526,527,528,529,530,531,532,533,534,535,536,537,538,539,540,541,542,543,544,545,546,547,548,549,550,551,552,553,554,555,556,557,558,559,560,561,562,563,564,565,566,567,568,569,570,571,572,573,574,575,576,577,578,579,580,581,582,583,584,585,586,587,588,589,590,591,592,593,594,595,596,597,598,599,600,601,602,603,604,605,606,607,608,609,610,611,612,613,614,615,616,617,618,619,620,621,622,623,624,625,626,627,628,629,630,631,632,633,634,635,636,637,638,639,640,641,642,643,644,645,646,647,648,649,650,651,652,653,654,655,656,657,658,659,660,661,662,663,664,665,666,667,668,669,670,671,672,673,674,675,676,677,678,679,680,681,682,683,684,685,686,687,688,689,690,691,692,693,694,695,696,697,698,699,700,701,702,703,704,705,706,707,708,709,710,711,712,713,714,715,716,717,718,719,720,721,722,723,724,725,726,727,728,729,730,731,732,733,734,735,736,737,738,739,740,741,742,743,744,745,746,747,748,749,750,751,752,753,754,755,756,757,758,759,760,761,762,763,764,765,766,767,768,769,770,771,772,773,774,775,776,777,778,779,780,781,782,783,784,785,786,787,788,789,790,791,792,793,794,795,796,797,798,799,800,801,802,803,804,805,806,807,808,809,810,811,812,813,814,815,816,817,818,819,820,821,822,823,824,825,826,827,828,829,830,831,832,833,834,835,836,837,838,839,840,841,842,843,844,845,846,847,848,849,850,851,852,853,854,855,856,857,858,859,860,861,862,863,864,865,866,867,868,869,870,871,872,873,874,875,876,877,878,879,880,881,882,883,884,885,886,887,888,889,890,891,892,893,894,895,896,897,898,899,900,901,902,903,904,905,906,907,908,909,910,911,912,913,914,915,916,917,918,919,920,921,922,923,924,925,926,927,928,929,930,931,932,933,934,935,936,937,938,939,940,941,942,943,944,945,946,947,948,949,950,951,952,953,954,955,956,957,958,959,960,961,962,963,964,965,966,967,968,969,970,971,972,973,974,975,976,977,978,979,980,981,982,983,984,985,986,987,988,989,990,991,992,993,994,995,996,997,998,999,1000,1001,1002,1003,1004,1005,1006,1007,1008,1009,1010,1011,1012,1013,1014,1015,1016,1017,1018,1019,1020,1021,1022,1023,1024,1025,1026,1027,1028,1029,1030,1031,1032,1033,1034,1035,1036,1037,1038,1039,1040,1041,1042,1043,1044,1045,1046,1047,1048,1049,1050,1051,1052,1053,1054,1055,1056,1057,1058,1059,1060,1061,1062,1063,1064,1065,1066,1067,1068,1069,1070,1071,1072,1073,1074,1075,1076,1077,1078,1079,1080,1081,1167,1168,1169,1170,1171,1172,1173,1203) have mixed types. Specify dtype option on import or set low_memory=False.\n",
      "  interactivity=interactivity, compiler=compiler, result=result)\n"
     ]
    },
    {
     "name": "stdout",
     "output_type": "stream",
     "text": [
      "(4541, 167, 18, 2) (4541,)\n"
     ]
    }
   ],
   "source": [
    "df = pd.read_csv(\"/Users/ninawiedemann/Desktop/UNI/Praktikum/ALL/sv_data.csv\")\n",
    "df = df[df[\"Player\"]==\"Batter\"]\n",
    "games = df[\"Game\"].values\n",
    "data_j = []\n",
    "for i in range(len(df.values)):\n",
    "    data_j.append(get_data(i, df))\n",
    "data_j = np.array(data_j)\n",
    "print(data_j.shape, games.shape)"
   ]
  },
  {
   "cell_type": "code",
   "execution_count": 31,
   "metadata": {
    "collapsed": false
   },
   "outputs": [
    {
     "name": "stdout",
     "output_type": "stream",
     "text": [
      "809\n",
      "490509-475e2c86-a1ba-42ff-8a3c-8737443a7cfa\n"
     ]
    }
   ],
   "source": [
    "ind_right = list(games).index(\"490509-3f640b3f-9ba5-4e89-8f72-97c9f333aa2c\")\n",
    "print(ind_right)\n",
    "from scipy import ndimage\n",
    "print(games[810])"
   ]
  },
  {
   "cell_type": "code",
   "execution_count": 48,
   "metadata": {
    "collapsed": false,
    "scrolled": false
   },
   "outputs": [],
   "source": [
    "smooth = ndimage.filters.gaussian_filter1d(data_j, axis =1, sigma = 3)\n",
    "grads = np.gradient(smooth[:,:,:, 1], axis = 1)\n",
    "mean_grads = np.mean(smooth[:,:,:,1], axis = 2)\n",
    "\n",
    "for i in range(10):\n",
    "    #print(i)\n",
    "    lower = mean_grads[i][mean_grads[i]<0]\n",
    "    cut = np.sum(lower[50:])\n",
    "    if cut>0:\n",
    "        print(games[i])\n",
    "        for j in range(12):\n",
    "            plt.plot(smooth[i,:,j,1])\n",
    "        #plt.ylim(-4,4)\n",
    "        plt.show()\n",
    "        plt.plot(mean_grads[i])\n",
    "        plt.ylim(-4,4)\n",
    "        plt.show()"
   ]
  },
  {
   "cell_type": "code",
   "execution_count": null,
   "metadata": {
    "collapsed": true
   },
   "outputs": [],
   "source": []
  }
 ],
 "metadata": {
  "kernelspec": {
   "display_name": "Python 3",
   "language": "python",
   "name": "python3"
  },
  "language_info": {
   "codemirror_mode": {
    "name": "ipython",
    "version": 3
   },
   "file_extension": ".py",
   "mimetype": "text/x-python",
   "name": "python",
   "nbconvert_exporter": "python",
   "pygments_lexer": "ipython3",
   "version": "3.5.2"
  }
 },
 "nbformat": 4,
 "nbformat_minor": 1
}
