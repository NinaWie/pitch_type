{
 "cells": [
  {
   "cell_type": "code",
   "execution_count": 2,
   "metadata": {
    "collapsed": false
   },
   "outputs": [
    {
     "ename": "ImportError",
     "evalue": "No module named 'tools'",
     "output_type": "error",
     "traceback": [
      "\u001b[0;31m---------------------------------------------------------------------------\u001b[0m",
      "\u001b[0;31mImportError\u001b[0m                               Traceback (most recent call last)",
      "\u001b[0;32m<ipython-input-2-7f341a8c55a2>\u001b[0m in \u001b[0;36m<module>\u001b[0;34m()\u001b[0m\n\u001b[1;32m      8\u001b[0m \u001b[0;32mfrom\u001b[0m \u001b[0mscipy\u001b[0m \u001b[0;32mimport\u001b[0m \u001b[0minterpolate\u001b[0m\u001b[0;34m\u001b[0m\u001b[0m\n\u001b[1;32m      9\u001b[0m \u001b[0;32mfrom\u001b[0m \u001b[0mscipy\u001b[0m \u001b[0;32mimport\u001b[0m \u001b[0mndimage\u001b[0m\u001b[0;34m\u001b[0m\u001b[0m\n\u001b[0;32m---> 10\u001b[0;31m \u001b[0;32mfrom\u001b[0m \u001b[0mtools\u001b[0m \u001b[0;32mimport\u001b[0m \u001b[0mTools\u001b[0m\u001b[0;34m\u001b[0m\u001b[0m\n\u001b[0m",
      "\u001b[0;31mImportError\u001b[0m: No module named 'tools'"
     ]
    }
   ],
   "source": [
    "import cv2 \n",
    "import ast\n",
    "%matplotlib inline\n",
    "import numpy as np\n",
    "import matplotlib.pylab as plt\n",
    "from os import listdir\n",
    "import pandas as pd\n",
    "from scipy import interpolate\n",
    "from scipy import ndimage\n",
    "from tools import Tools"
   ]
  },
  {
   "cell_type": "code",
   "execution_count": null,
   "metadata": {
    "collapsed": true
   },
   "outputs": [],
   "source": [
    "data = np.load(\"unpro_all_coord.npy\")"
   ]
  },
  {
   "cell_type": "code",
   "execution_count": null,
   "metadata": {
    "collapsed": true
   },
   "outputs": [],
   "source": [
    "joints=[\"Right shoulder\", \"Left shoulder\", \"Right elbow\", \"Right wrist\",\"Left elbow\", \"Left wrist\",\n",
    "        \"Right hip\", \"Right knee\", \"Right ankle\", \"Left hip\", \"Left knee\", \"Left ankle\", \"Neck \",\n",
    "        \"Right eye\", \"Right ear\",\"Left eye\", \"Left ear\"]\n",
    "#print(data[540, 92:95])\n",
    "def normalize(data):\n",
    "    M,N, nr_joints,_ = data.shape\n",
    "    means = np.mean(data, axis = 1)\n",
    "    std = np.std(data, axis = 1)\n",
    "    res = np.asarray([(data[:,i]-means)/(std+0.000001) for i in range(len(data[0]))])\n",
    "    data_new = np.swapaxes(res, 0,1)\n",
    "    return data_new, means, std\n",
    "\n",
    "def renormalize(data, means, std, one_pitch=None):\n",
    "    if one_pitch is None:\n",
    "        res = np.asarray([data[:,i]*std+means for i in range(len(data[0]))])\n",
    "        #print(res.shape)\n",
    "        data_new = np.swapaxes(res, 0,1)\n",
    "    else:\n",
    "        print(data.shape)\n",
    "        data_new = np.asarray([data[i]*std[one_pitch]+means[one_pitch] for i in range(len(data))])\n",
    "    return data_new\n",
    "\n",
    "norm, means, std = normalize(data)\n",
    "possible_interpo = [\"linear\", \"nearest\", \"zero\", \"slinear\", \"quadratic\", \"cubic’ where ‘zero\", \"cubic\"]\n",
    "inter = 6\n",
    "DATA_EX = 795 # 773 96, 796 94, 803 98\n",
    "FRAME = 96\n",
    "RANGE = 10\n",
    "START = FRAME-RANGE\n",
    "END = FRAME+RANGE\n",
    "START_JOINT = 0\n",
    "example = np.array(norm[DATA_EX])\n",
    "linear = example.copy()\n",
    "cubic = example.copy()\n",
    "smooth = example.copy()\n",
    "kal = example.copy()\n",
    "ml = example.copy()\n",
    "not_zer = np.where(data[DATA_EX, START:END, 1, 0]!=0)[0]\n",
    "N,j, co = example.shape\n",
    "smo2 = np.zeros((N*2, j, co))\n",
    "indices = np.arange(0, END-START, 1)\n",
    "ind_twice = np.arange(0, (END-START)-0.5, 0.5)\n",
    "\n",
    "# ML FILL IN\n",
    "\"\"\"\n",
    "sequ = np.delete(data, FRAME, axis=1)[:, FRAME-10:FRAME+9, :12, :]\n",
    "sequ = Tools.normalize(sequ)[DATA_EX]\n",
    "sequ_around = np.reshape(sequ, (1, len(sequ), 24))\n",
    "print(sequ_around.shape)\n",
    "ml[FRAME] = np.reshape(get_ML_coord(sequ_around)[0], (12,2))\n",
    "\"\"\"\n",
    "\n",
    "#print(sequ_around)\n",
    "plot = [\"gaussian_filter\", \"ml\", \"linear\"]\n",
    "\n",
    "ml = np.load(\"ml_predict.npy\")\n",
    "# print(ml[START:END, 0, 0])\n",
    "\n",
    "\n",
    "for i in range(12):\n",
    "    for j in range(2):\n",
    "        #print(not_zer, example[not_zer+START, i,j], indices)\n",
    "        #print(not_zer*2, example[not_zer+START, i,j], ind_twice)\n",
    "        f = interpolate.interp1d(not_zer, example[not_zer+START, i,j], kind=possible_interpo[inter])\n",
    "        cubic[START:END, i, j] = np.round(f(indices), 1)\n",
    "        new = np.interp(indices, not_zer, example[not_zer+START,i,j])\n",
    "        new2= interpolate.interp1d(not_zer, example[not_zer+START, i,j], kind=possible_interpo[inter])\n",
    "        linear[START:END, i, j] =  new\n",
    "        smooth[START:END, i, j] = ndimage.filters.gaussian_filter1d(new, sigma = 1)\n",
    "        #smo2[(START-RANGE):(END+RANGE)-1, i, j]= np.round(f(ind_twice),1)\n",
    "        kal[START:END, i, j] = kalmann(new)[1]\n",
    "    fig = plt.figure(figsize = (20,10))\n",
    "    ax = fig.add_subplot(111)\n",
    "    dic = {\"linear\": [linear[START:END, i, 0], linear[START:END, i, 1]],\n",
    "           \"kalmann\": [kal[START:END, i, 0], kal[START:END, i, 1]],\n",
    "          \"cubic\": [cubic[START:END, i, 0], cubic[START:END, i, 1]],\n",
    "          \"gaussian_filter\": [smooth[START:END, i, 0], smooth[START:END, i, 1]],\n",
    "          \"twice_values\": [smo2[START-RANGE:END+RANGE-1, i, 0], smo2[START-RANGE:END+RANGE-1, i, 1]],\n",
    "          \"ml\": [ml[START:END, i, 0], ml[START:END, i, 1]]}\n",
    "    for kind in plot:\n",
    "        meX = dic[kind][0]\n",
    "        meY = dic[kind][1]\n",
    "        plt.plot(meX, meY, label= kind)\n",
    "        for k in range(START,END):\n",
    "            if k==FRAME:\n",
    "                ax.annotate(str(k), (meX[k-START], meY[k-START]), size=20)\n",
    "            else:\n",
    "                ax.annotate(str(k), (meX[k-START], meY[k-START]))\n",
    "    plt.title(joints[i+START_JOINT])\n",
    "    plt.grid()\n",
    "    plt.legend()\n",
    "    plt.show()"
   ]
  },
  {
   "cell_type": "markdown",
   "metadata": {},
   "source": [
    "### Get suitable video from harddrive and cf file"
   ]
  },
  {
   "cell_type": "code",
   "execution_count": null,
   "metadata": {
    "collapsed": true
   },
   "outputs": [],
   "source": [
    "from data_preprocess import Preprocessor\n",
    "prepro = Preprocessor(\"unprocessed_data.csv\")\n",
    "prepro.remove_small_classes(50)\n",
    "print(prepro.cf.shape)\n",
    "print(prepro.cf.iloc[DATA_EX][\"Game\"])\n",
    "release = prepro.cf.iloc[DATA_EX][\"pitch_frame_index\"]\n",
    "print(release)\n",
    "\n",
    "path = \"/Volumes/Nina Backup/videos/atl/\"\n",
    "#path_input_dat = \"/Volumes/Nina Backup/videos/atl/2017-04-14/center field/490251-0f308987-60b4-480c-89b7-60421ab39106.mp4.dat\"\n",
    "dates = \"2017-07-16\" #, \"2017-04-18\", \"2017-05-02\", \"2017-05-06\"] # , \"2017-05-19\", \"2017-05-23\", \"2017-06-06\", \"2017-06-10\", \"2017-06-18\", \"2017-06-22\", \"2017-07-04\", \"2017-07-16\",\n",
    "# \"2017-04-15\", \"2017-04-19\", \"2017-05-03\", \"2017-05-07\", \"2017-05-20\", \"2017-05-24\", \"2017-06-07\", \"2017-06-11\", \"2017-06-19\", \"2017-06-23\", \"2017-07-05\", \"2017-07-17\"]\n",
    "# only first two rows von den im cluster angezeigten\n",
    "# output_folder=args.output_dir\n",
    "file = prepro.cf.iloc[DATA_EX][\"Game\"] + \".mp4\" #491465-1a697776-fcf9-4a5e-817e-c38f975a6ce8.mp4\""
   ]
  },
  {
   "cell_type": "markdown",
   "metadata": {},
   "source": [
    "### Plot on video"
   ]
  },
  {
   "cell_type": "code",
   "execution_count": null,
   "metadata": {
    "collapsed": true
   },
   "outputs": [],
   "source": [
    "output = []\n",
    "input_dir = path+dates+\"/center field/\"\n",
    "video_capture = cv2.VideoCapture(input_dir+file)\n",
    "game_id = file[:-4]\n",
    "\n",
    "for i in open(input_dir+file+\".dat\").readlines():\n",
    "    datContent=ast.literal_eval(i)\n",
    "\n",
    "bottom_p=datContent['Pitcher']['bottom']\n",
    "left_p=datContent['Pitcher']['left']\n",
    "right_p=datContent['Pitcher']['right']\n",
    "top_p=datContent['Pitcher']['top']\n",
    "bottom_b=datContent['Batter']['bottom']\n",
    "left_b=datContent['Batter']['left']\n",
    "right_b=datContent['Batter']['right']\n",
    "top_b=datContent['Batter']['top']\n",
    "#center_dic['Pitcher']=np.array([abs(top_p-bottom_p)/2., abs(left_p-right_p)/2.])\n",
    "#center_dic['Batter']=np.array([abs(top_b-bottom_b)/2., abs(left_b-right_b)/2.])\n",
    "frames = np.zeros((167, 221, 290, 3))\n",
    "i = 0\n",
    "while True:\n",
    "    ret, frame = video_capture.read()\n",
    "    if frame is None:\n",
    "        break\n",
    "    pitcher = frame[top_p:bottom_p, left_p:right_p]\n",
    "    # batter = frame[top_b:bottom_b, left_b:right_b]\n",
    "    frames[i]= pitcher\n",
    "    i+=1\n",
    "\n",
    "output.append(frames)"
   ]
  },
  {
   "cell_type": "code",
   "execution_count": null,
   "metadata": {
    "collapsed": true
   },
   "outputs": [],
   "source": [
    "\"\"\" RED POINTS ARE SMOOTHED, GREEN UNPROCESSED\"\"\"\n",
    "\n",
    "linear = renormalize(linear, means, std, one_pitch = DATA_EX)\n",
    "ml = renormalize(ml, means, std, one_pitch = DATA_EX)\n",
    "example = renormalize(example, means, std, one_pitch = DATA_EX)\n",
    "\n",
    "vid = output[0]\n",
    "print(vid.shape)\n",
    "print(release)\n",
    "for i in range(START, END):\n",
    "    print(i)\n",
    "    if i==release:\n",
    "        print(\"BALL RELEASE FRAME\")\n",
    "    for j in range(12):\n",
    "        x = linear[i, j, 0]\n",
    "        y = linear[i,j,1]\n",
    "        vid[i,int(x)-2:int(x)+2, int(y)-2:int(y)+2]=[1,0,0] # red\n",
    "        x = ml[i, j, 0]\n",
    "        y = ml[i,j,1]\n",
    "        vid[i,int(x)-2:int(x)+2, int(y)-2:int(y)+2]=[0,0,1] # blue\n",
    "        x = example[i, j, 0]\n",
    "        y = example[i,j,1]\n",
    "        vid[i,int(x)-2:int(x)+2, int(y)-2:int(y)+2]=[0,1,0] # green : normal\n",
    "    plt.imshow(vid[i])\n",
    "    plt.show()"
   ]
  }
 ],
 "metadata": {
  "kernelspec": {
   "display_name": "Python 3",
   "language": "python",
   "name": "python3"
  },
  "language_info": {
   "codemirror_mode": {
    "name": "ipython",
    "version": 3
   },
   "file_extension": ".py",
   "mimetype": "text/x-python",
   "name": "python",
   "nbconvert_exporter": "python",
   "pygments_lexer": "ipython3",
   "version": "3.5.2"
  }
 },
 "nbformat": 4,
 "nbformat_minor": 1
}
