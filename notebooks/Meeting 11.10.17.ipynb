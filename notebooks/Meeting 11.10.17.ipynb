{
 "cells": [
  {
   "cell_type": "markdown",
   "metadata": {},
   "source": [
    "# First movement pitcher"
   ]
  },
  {
   "cell_type": "markdown",
   "metadata": {},
   "source": [
    "## Take 1D gradient of Y coordinates of joints\n",
    "\n",
    "* Works really well except for outliers (491122-dac55b6c-ef8e-43ec-a402-aebcf7d42aa2)\n",
    "* improvement: take frame only if consequtive frame als has more than threshold gradient (now works for video above as well)\n",
    "* disadvantage: not real time! because np.gradient function\n",
    "* 2/40 wrong\n",
    "\n",
    "### batter runs:\n",
    "\n",
    "* hit into play nur 490509-3f640b3f-9ba5-4e89-8f72-97c9f333aa2c gefunden"
   ]
  },
  {
   "cell_type": "markdown",
   "metadata": {},
   "source": [
    "## Ideas:\n",
    "\n",
    "* train model by taking one hot vector of 167 frames\n",
    "* probleme bei stretch ( leg nich t"
   ]
  }
 ],
 "metadata": {
  "kernelspec": {
   "display_name": "Python 3",
   "language": "python",
   "name": "python3"
  },
  "language_info": {
   "codemirror_mode": {
    "name": "ipython",
    "version": 3
   },
   "file_extension": ".py",
   "mimetype": "text/x-python",
   "name": "python",
   "nbconvert_exporter": "python",
   "pygments_lexer": "ipython3",
   "version": "3.5.2"
  }
 },
 "nbformat": 4,
 "nbformat_minor": 1
}
