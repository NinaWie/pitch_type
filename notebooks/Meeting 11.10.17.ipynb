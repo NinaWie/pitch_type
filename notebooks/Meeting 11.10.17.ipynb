{
 "cells": [
  {
   "cell_type": "markdown",
   "metadata": {},
   "source": [
    "# First movement pitcher"
   ]
  },
  {
   "cell_type": "markdown",
   "metadata": {},
   "source": [
    "## Difference image approach:\n",
    "\n",
    "* Processing:\n",
    "    * gray values\n",
    "    * diff image: one subtracted from the next one\n",
    "    * smoothed with gaussian filtering\n",
    "* Different methods:\n",
    "    * count pixels of difference image above threshold\n",
    "    * take mean difference --> move if higher threshold\n",
    "    * if mean difference higher than mean of mean differences (baseline)\n",
    "    \n",
    "Too hard to find threshold, to dependend on illumination etc."
   ]
  },
  {
   "cell_type": "markdown",
   "metadata": {},
   "source": [
    "## Take 1D gradient of Y coordinates of joints\n",
    "\n",
    "* take minimum frame of left leg movement and right leg movement\n",
    "* improvement: take frame only if consequtive frame als has more than threshold gradient (now works for video above as well)\n",
    "* accuracy around 80%\n",
    "* Gaussian smoothing used to avoid noise in gradient\n",
    "\n",
    "\n",
    "* worked on SV and on CF data\n",
    "* might work really well with better camera and joint output\n",
    "\n",
    "* false: 15/75, \n"
   ]
  },
  {
   "cell_type": "markdown",
   "metadata": {},
   "source": [
    "## Try center of mass approach\n",
    "\n",
    "* Too noisy, only legs worked better"
   ]
  },
  {
   "cell_type": "markdown",
   "metadata": {},
   "source": [
    "##  Neural network real time\n",
    "\n",
    "* train to distinguish between positive (is first movement) and negative (is not first movement) sequences \n",
    "* took sequence length of 20 frames, overlapping such that checked every 10th\n",
    "* test acc for that: 95%\n",
    "* tested by taking maximum of these outputs\n",
    "* accuracy if normalized per sequence: 75%\n",
    "* accuracy if normalized whole pitch: 90%\n",
    "\n",
    "* sequences of 10 frames: accuracy that ground truth label less than 5 away: 65%"
   ]
  },
  {
   "cell_type": "markdown",
   "metadata": {},
   "source": [
    "## Neural network all frames\n",
    "\n",
    "* label one hot vector of 167 --> frame number as output\n",
    "* accuracy five frames more or less: 93%"
   ]
  },
  {
   "cell_type": "markdown",
   "metadata": {},
   "source": [
    "## Real time \n",
    "\n",
    "* gradient can be calculated in real time --> approach works\n",
    "* NN lag of 10 frames"
   ]
  },
  {
   "cell_type": "code",
   "execution_count": null,
   "metadata": {
    "collapsed": true
   },
   "outputs": [],
   "source": [
    "exmaples for wrong ones:\n",
    "    \n",
    "490972-1049b32d-1ca7-4b26-ad1e-e58ad5ad9dc9\n",
    "490972-f473c66c-0c5b-43b1-b985-b423ccc36bf2\n",
    "490972-63731b5a-4823-4d0b-933c-70b675f15f69\n",
    "490972-979c7968-8533-4a2a-bee1-db75f05e0696 \n",
    "490972-01c36310-b871-4132-9fa7-49d01b56b941"
   ]
  },
  {
   "cell_type": "markdown",
   "metadata": {},
   "source": [
    "# email von 3d gruppe!!"
   ]
  },
  {
   "cell_type": "markdown",
   "metadata": {
    "collapsed": true
   },
   "source": [
    "# First movement batter"
   ]
  },
  {
   "cell_type": "markdown",
   "metadata": {
    "collapsed": true
   },
   "source": [
    "only one video: 2017-05-03/center field/490509-3f640b3f-9ba5-4e89-8f72-97c9f333aa2c.mp4\n",
    "\n",
    "* Start of the swing: Upper body (shoulders, elbows, wrist) Y coordinate --> moving down during swing\n",
    "* Start of run: lower body moving to the left --> X coordinate"
   ]
  },
  {
   "cell_type": "markdown",
   "metadata": {},
   "source": [
    "# release frame time: \n",
    "1.1 for 30 frames --> close to realtime"
   ]
  },
  {
   "cell_type": "markdown",
   "metadata": {},
   "source": [
    "# Futher ideas:\n",
    "\n",
    "* Train on pictures of pitchers with their legs raised\n",
    "    * +: real time\n",
    "    * -: still missing out all the weird pitchers\n",
    "* use release frame for finding the first movement "
   ]
  },
  {
   "cell_type": "code",
   "execution_count": null,
   "metadata": {
    "collapsed": false
   },
   "outputs": [],
   "source": []
  },
  {
   "cell_type": "code",
   "execution_count": null,
   "metadata": {
    "collapsed": true
   },
   "outputs": [],
   "source": [
    "COlumns to us:\n",
    "\"Batter side\" column (left or right)\n",
    "\"Pitcher throws\" (\"L\" or \"R\")\n",
    "\n",
    "carlos change time.time to without comma\n",
    "\n",
    "play outcome vorhersagen (column gutgefüllt mit lauter sachen)\n",
    "\n",
    "problem (ALEX): was machem wir mit denen, die anfangen zu rennen aber dann stoppen\n",
    "    labeled not hit into play, aber fangen an zu rennen\n",
    "zweites problem: lables hit into play, aber rennen nicht\n",
    "    \n",
    "falsch:  \n",
    "    6f014362-1788-43d7-a3fe-91059be02304\n",
    "    a9bcfd9a-1f0f-43c4-a64c-e53302311c6e\n",
    "falscher typ detected: \n",
    "    83764a69-2028-4530-8188-f7c37162d403\n",
    "    46188b82-c795-42e4-8eb1-db3d616d3b4f\n",
    "    889613f9-85f0-4043-864b-f0d486a9816e"
   ]
  }
 ],
 "metadata": {
  "kernelspec": {
   "display_name": "Python 3",
   "language": "python",
   "name": "python3"
  },
  "language_info": {
   "codemirror_mode": {
    "name": "ipython",
    "version": 3
   },
   "file_extension": ".py",
   "mimetype": "text/x-python",
   "name": "python",
   "nbconvert_exporter": "python",
   "pygments_lexer": "ipython3",
   "version": "3.5.2"
  }
 },
 "nbformat": 4,
 "nbformat_minor": 1
}
