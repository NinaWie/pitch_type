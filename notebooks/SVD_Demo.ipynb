{
 "cells": [
  {
   "cell_type": "markdown",
   "metadata": {},
   "source": [
    "https://arxiv.org/pdf/1611.03214.pdf\n",
    "\n",
    "http://niclane.org/pubs/deepx_ipsn.pdf\n",
    "\n",
    "https://arxiv.org/pdf/1404.0736.pdf"
   ]
  },
  {
   "cell_type": "code",
   "execution_count": 1,
   "metadata": {
    "collapsed": true,
    "deletable": true,
    "editable": true
   },
   "outputs": [],
   "source": [
    "import os, sys\n",
    "\n",
    "sys.path.append('../Pose_Estimation')"
   ]
  },
  {
   "cell_type": "code",
   "execution_count": 2,
   "metadata": {
    "collapsed": false,
    "deletable": true,
    "editable": true
   },
   "outputs": [
    {
     "name": "stderr",
     "output_type": "stream",
     "text": [
      "Using TensorFlow backend.\n"
     ]
    },
    {
     "name": "stdout",
     "output_type": "stream",
     "text": [
      "LOADED MODULES\n"
     ]
    }
   ],
   "source": [
    "from config_reader import config_reader\n",
    "config_reader()\n",
    "\n",
    "import keras\n",
    "from keras.models import Sequential\n",
    "from keras.models import Model\n",
    "from keras.layers import Input, Dense, Activation\n",
    "from keras.layers.convolutional import Conv2D\n",
    "from keras.layers.pooling import MaxPooling2D\n",
    "from keras.layers.normalization import BatchNormalization\n",
    "from keras.layers.merge import Concatenate\n",
    "import tensorflow as tf\n",
    "from keras import backend as K\n",
    "\n",
    "# Common deps\n",
    "import numpy as np\n",
    "import cv2\n",
    "import util\n",
    "print 'LOADED MODULES'\n",
    "\n",
    "session = tf.Session()"
   ]
  },
  {
   "cell_type": "code",
   "execution_count": 3,
   "metadata": {
    "collapsed": false,
    "deletable": true,
    "editable": true
   },
   "outputs": [],
   "source": [
    "param_, model_ = config_reader()\n",
    "PYTORCH_WEIGHTS_PATH = model_['pytorch_model']\n",
    "TENSORFLOW_WEIGHTS_PATH = model_['tensorflow_model']\n",
    "USE_MODEL = model_['use_model']\n",
    "USE_GPU = param_['use_gpu']\n",
    "TORCH_CUDA = lambda x: x.cuda() if USE_GPU else x\n"
   ]
  },
  {
   "cell_type": "code",
   "execution_count": 4,
   "metadata": {
    "collapsed": false,
    "deletable": true,
    "editable": true
   },
   "outputs": [],
   "source": [
    "def relu(x):\n",
    "    return Activation('relu')(x)\n",
    "\n",
    "def conv(x, nf, ks, name):\n",
    "    x1 = Conv2D(nf, (ks, ks), padding='same', name=name)(x)\n",
    "    return x1\n",
    "\n",
    "def pooling(x, ks, st, name):\n",
    "    x = MaxPooling2D((ks, ks), strides=(st, st), name=name)(x)\n",
    "    return x\n",
    "\n",
    "def vgg_block(x):\n",
    "\n",
    "    # Block 1\n",
    "    x = conv(x, 64, 3, \"conv1_1\")\n",
    "    x = relu(x)\n",
    "    x = conv(x, 64, 3, \"conv1_2\")\n",
    "    x = relu(x)\n",
    "    x = pooling(x, 2, 2, \"pool1_1\")\n",
    "\n",
    "    # Block 2\n",
    "    x = conv(x, 128, 3, \"conv2_1\")\n",
    "    x = relu(x)\n",
    "    x = conv(x, 128, 3, \"conv2_2\")\n",
    "    x = relu(x)\n",
    "    x = pooling(x, 2, 2, \"pool2_1\")\n",
    "\n",
    "    # Block 3\n",
    "    x = conv(x, 256, 3, \"conv3_1\")\n",
    "    x = relu(x)\n",
    "    x = conv(x, 256, 3, \"conv3_2\")\n",
    "    x = relu(x)\n",
    "    x = conv(x, 256, 3, \"conv3_3\")\n",
    "    x = relu(x)\n",
    "    x = conv(x, 256, 3, \"conv3_4\")\n",
    "    x = relu(x)\n",
    "    x = pooling(x, 2, 2, \"pool3_1\")\n",
    "\n",
    "    # Block 4\n",
    "    x = conv(x, 512, 3, \"conv4_1\")\n",
    "    x = relu(x)\n",
    "    x = conv(x, 512, 3, \"conv4_2\")\n",
    "    x = relu(x)\n",
    "\n",
    "    # Additional non vgg layers\n",
    "    x = conv(x, 256, 3, \"conv4_3_CPM\")\n",
    "    x = relu(x)\n",
    "    x = conv(x, 128, 3, \"conv4_4_CPM\")\n",
    "    x = relu(x)\n",
    "\n",
    "    return x\n",
    "\n",
    "def stage1_block(x, num_p, branch):\n",
    "\n",
    "    # Block 1\n",
    "    x = conv(x, 128, 3, \"conv5_1_CPM_L%d\" % branch)\n",
    "    x = relu(x)\n",
    "    x = conv(x, 128, 3, \"conv5_2_CPM_L%d\" % branch)\n",
    "    x = relu(x)\n",
    "    x = conv(x, 128, 3, \"conv5_3_CPM_L%d\" % branch)\n",
    "    x = relu(x)\n",
    "    x = conv(x, 512, 1, \"conv5_4_CPM_L%d\" % branch)\n",
    "    x = relu(x)\n",
    "    x = conv(x, num_p, 1, \"conv5_5_CPM_L%d\" % branch)\n",
    "\n",
    "    return x\n",
    "\n",
    "def stageT_block(x, num_p, stage, branch, prefix='Heatmap'):\n",
    "\n",
    "    # Block 1\n",
    "    with tf.name_scope('%sBlock' % (prefix)):\n",
    "        x = conv(x, 128, 7, \"Mconv1_stage%d_L%d\" % (stage, branch))\n",
    "        x = relu(x)\n",
    "        x = conv(x, 128, 7, \"Mconv2_stage%d_L%d\" % (stage, branch))\n",
    "        x = relu(x)\n",
    "        x = conv(x, 128, 7, \"Mconv3_stage%d_L%d\" % (stage, branch))\n",
    "        x = relu(x)\n",
    "        x = conv(x, 128, 7, \"Mconv4_stage%d_L%d\" % (stage, branch))\n",
    "        x = relu(x)\n",
    "        x = conv(x, 128, 7, \"Mconv5_stage%d_L%d\" % (stage, branch))\n",
    "        x = relu(x)\n",
    "        x = conv(x, 128, 1, \"Mconv6_stage%d_L%d\" % (stage, branch))\n",
    "        x = relu(x)\n",
    "        x = conv(x, num_p, 1, \"Mconv7_stage%d_L%d\" % (stage, branch))\n",
    "\n",
    "        return x"
   ]
  },
  {
   "cell_type": "code",
   "execution_count": 5,
   "metadata": {
    "collapsed": false
   },
   "outputs": [],
   "source": [
    "def create_model(vgg=vgg_block):\n",
    "    input_shape = (None,None,3)\n",
    "    img_input = Input(shape=input_shape)\n",
    "\n",
    "    stages = 6\n",
    "    np_branch1 = 38\n",
    "    np_branch2 = 19\n",
    "\n",
    "    # VGG\n",
    "    with tf.name_scope('VggConvLayer'):\n",
    "        stage0_out = vgg(img_input)\n",
    "\n",
    "    # stage 1\n",
    "    with tf.name_scope('DualLayer%d' % (1)):\n",
    "        stage1_branch1_out = stage1_block(stage0_out, np_branch1, 1)\n",
    "        stage1_branch2_out = stage1_block(stage0_out, np_branch2, 2)\n",
    "        x = Concatenate()([stage1_branch1_out, stage1_branch2_out, stage0_out])\n",
    "\n",
    "    # stage t >= 2\n",
    "    for sn in range(2, stages + 1):\n",
    "        with tf.name_scope('DualLayer%d' % (sn)):\n",
    "            stageT_branch1_out = stageT_block(x, np_branch1, sn, 1, prefix='Heat')\n",
    "            stageT_branch2_out = stageT_block(x, np_branch2, sn, 2, prefix='PAF')\n",
    "            if (sn < stages):\n",
    "                x = Concatenate()([stageT_branch1_out, stageT_branch2_out, stage0_out])\n",
    "    return Model(img_input, [stageT_branch1_out, stageT_branch2_out])\n"
   ]
  },
  {
   "cell_type": "code",
   "execution_count": 6,
   "metadata": {
    "collapsed": false
   },
   "outputs": [],
   "source": [
    "model = create_model()\n",
    "# model.load_weights('../Pose_Estimation/model/keras/model.h5')\n",
    "\n",
    "raw_heatmap = tf.placeholder(tf.float32, shape=(None, None, None, 19))\n",
    "raw_paf = tf.placeholder(tf.float32, shape=(None, None, None, 38))\n",
    "resize_size = tf.placeholder(tf.int32, shape=(2))\n",
    "\n",
    "resize_heatmap = tf.transpose(tf.image.resize_images(raw_heatmap, resize_size, align_corners=True), perm=[0, 3, 1, 2])\n",
    "resize_paf = tf.transpose(tf.image.resize_images(raw_paf, resize_size, align_corners=True), perm=[0, 3, 1, 2])\n",
    "\n",
    "test_writer = tf.summary.FileWriter('logs/test', session.graph)\n"
   ]
  },
  {
   "cell_type": "code",
   "execution_count": 7,
   "metadata": {
    "collapsed": false
   },
   "outputs": [
    {
     "name": "stdout",
     "output_type": "stream",
     "text": [
      "181\n",
      "VGG LAYERS\n",
      "0 <class 'keras.engine.topology.InputLayer'>\n",
      "1 <class 'keras.layers.convolutional.Conv2D'>\n",
      "2 <class 'keras.layers.core.Activation'>\n",
      "3 <class 'keras.layers.convolutional.Conv2D'>\n",
      "4 <class 'keras.layers.core.Activation'>\n",
      "5 <class 'keras.layers.pooling.MaxPooling2D'>\n",
      "6 <class 'keras.layers.convolutional.Conv2D'>\n",
      "7 <class 'keras.layers.core.Activation'>\n",
      "8 <class 'keras.layers.convolutional.Conv2D'>\n",
      "9 <class 'keras.layers.core.Activation'>\n",
      "10 <class 'keras.layers.pooling.MaxPooling2D'>\n",
      "11 <class 'keras.layers.convolutional.Conv2D'>\n",
      "12 <class 'keras.layers.core.Activation'>\n",
      "13 <class 'keras.layers.convolutional.Conv2D'>\n",
      "14 <class 'keras.layers.core.Activation'>\n",
      "15 <class 'keras.layers.convolutional.Conv2D'>\n",
      "16 <class 'keras.layers.core.Activation'>\n",
      "17 <class 'keras.layers.convolutional.Conv2D'>\n",
      "18 <class 'keras.layers.core.Activation'>\n",
      "19 <class 'keras.layers.pooling.MaxPooling2D'>\n",
      "20 <class 'keras.layers.convolutional.Conv2D'>\n",
      "21 <class 'keras.layers.core.Activation'>\n",
      "22 <class 'keras.layers.convolutional.Conv2D'>\n",
      "23 <class 'keras.layers.core.Activation'>\n",
      "24 <class 'keras.layers.convolutional.Conv2D'>\n",
      "25 <class 'keras.layers.core.Activation'>\n",
      "26 <class 'keras.layers.convolutional.Conv2D'>\n",
      "27 <class 'keras.layers.core.Activation'>\n",
      "\n",
      "\n",
      "\n",
      "DUAL CONV LAYERS\n",
      "28 29 <class 'keras.layers.convolutional.Conv2D'> <class 'keras.layers.convolutional.Conv2D'>\n",
      "    (3, 3, 128, 128) (128,)\n",
      "30 31 <class 'keras.layers.core.Activation'> <class 'keras.layers.core.Activation'>\n",
      "32 33 <class 'keras.layers.convolutional.Conv2D'> <class 'keras.layers.convolutional.Conv2D'>\n",
      "    (3, 3, 128, 128) (128,)\n",
      "34 35 <class 'keras.layers.core.Activation'> <class 'keras.layers.core.Activation'>\n",
      "36 37 <class 'keras.layers.convolutional.Conv2D'> <class 'keras.layers.convolutional.Conv2D'>\n",
      "    (3, 3, 128, 128) (128,)\n",
      "38 39 <class 'keras.layers.core.Activation'> <class 'keras.layers.core.Activation'>\n",
      "40 41 <class 'keras.layers.convolutional.Conv2D'> <class 'keras.layers.convolutional.Conv2D'>\n",
      "    (1, 1, 128, 512) (512,)\n",
      "42 43 <class 'keras.layers.core.Activation'> <class 'keras.layers.core.Activation'>\n",
      "44 45 <class 'keras.layers.convolutional.Conv2D'> <class 'keras.layers.convolutional.Conv2D'>\n",
      "    (1, 1, 512, 19) (19,)\n",
      "46 <class 'keras.layers.merge.Concatenate'>\n",
      "\n",
      "47 48 <class 'keras.layers.convolutional.Conv2D'> <class 'keras.layers.convolutional.Conv2D'>\n",
      "    (7, 7, 185, 128) (128,)\n",
      "49 50 <class 'keras.layers.core.Activation'> <class 'keras.layers.core.Activation'>\n",
      "51 52 <class 'keras.layers.convolutional.Conv2D'> <class 'keras.layers.convolutional.Conv2D'>\n",
      "    (7, 7, 128, 128) (128,)\n",
      "53 54 <class 'keras.layers.core.Activation'> <class 'keras.layers.core.Activation'>\n",
      "55 56 <class 'keras.layers.convolutional.Conv2D'> <class 'keras.layers.convolutional.Conv2D'>\n",
      "    (7, 7, 128, 128) (128,)\n",
      "57 58 <class 'keras.layers.core.Activation'> <class 'keras.layers.core.Activation'>\n",
      "59 60 <class 'keras.layers.convolutional.Conv2D'> <class 'keras.layers.convolutional.Conv2D'>\n",
      "    (7, 7, 128, 128) (128,)\n",
      "61 62 <class 'keras.layers.core.Activation'> <class 'keras.layers.core.Activation'>\n",
      "63 64 <class 'keras.layers.convolutional.Conv2D'> <class 'keras.layers.convolutional.Conv2D'>\n",
      "    (7, 7, 128, 128) (128,)\n",
      "65 66 <class 'keras.layers.core.Activation'> <class 'keras.layers.core.Activation'>\n",
      "67 68 <class 'keras.layers.convolutional.Conv2D'> <class 'keras.layers.convolutional.Conv2D'>\n",
      "    (1, 1, 128, 128) (128,)\n",
      "69 70 <class 'keras.layers.core.Activation'> <class 'keras.layers.core.Activation'>\n",
      "71 72 <class 'keras.layers.convolutional.Conv2D'> <class 'keras.layers.convolutional.Conv2D'>\n",
      "    (1, 1, 128, 19) (19,)\n",
      "73 <class 'keras.layers.merge.Concatenate'>\n",
      "\n",
      "74 75 <class 'keras.layers.convolutional.Conv2D'> <class 'keras.layers.convolutional.Conv2D'>\n",
      "    (7, 7, 185, 128) (128,)\n",
      "76 77 <class 'keras.layers.core.Activation'> <class 'keras.layers.core.Activation'>\n",
      "78 79 <class 'keras.layers.convolutional.Conv2D'> <class 'keras.layers.convolutional.Conv2D'>\n",
      "    (7, 7, 128, 128) (128,)\n",
      "80 81 <class 'keras.layers.core.Activation'> <class 'keras.layers.core.Activation'>\n",
      "82 83 <class 'keras.layers.convolutional.Conv2D'> <class 'keras.layers.convolutional.Conv2D'>\n",
      "    (7, 7, 128, 128) (128,)\n",
      "84 85 <class 'keras.layers.core.Activation'> <class 'keras.layers.core.Activation'>\n",
      "86 87 <class 'keras.layers.convolutional.Conv2D'> <class 'keras.layers.convolutional.Conv2D'>\n",
      "    (7, 7, 128, 128) (128,)\n",
      "88 89 <class 'keras.layers.core.Activation'> <class 'keras.layers.core.Activation'>\n",
      "90 91 <class 'keras.layers.convolutional.Conv2D'> <class 'keras.layers.convolutional.Conv2D'>\n",
      "    (7, 7, 128, 128) (128,)\n",
      "92 93 <class 'keras.layers.core.Activation'> <class 'keras.layers.core.Activation'>\n",
      "94 95 <class 'keras.layers.convolutional.Conv2D'> <class 'keras.layers.convolutional.Conv2D'>\n",
      "    (1, 1, 128, 128) (128,)\n",
      "96 97 <class 'keras.layers.core.Activation'> <class 'keras.layers.core.Activation'>\n",
      "98 99 <class 'keras.layers.convolutional.Conv2D'> <class 'keras.layers.convolutional.Conv2D'>\n",
      "    (1, 1, 128, 19) (19,)\n",
      "100 <class 'keras.layers.merge.Concatenate'>\n",
      "\n",
      "101 102 <class 'keras.layers.convolutional.Conv2D'> <class 'keras.layers.convolutional.Conv2D'>\n",
      "    (7, 7, 185, 128) (128,)\n",
      "103 104 <class 'keras.layers.core.Activation'> <class 'keras.layers.core.Activation'>\n",
      "105 106 <class 'keras.layers.convolutional.Conv2D'> <class 'keras.layers.convolutional.Conv2D'>\n",
      "    (7, 7, 128, 128) (128,)\n",
      "107 108 <class 'keras.layers.core.Activation'> <class 'keras.layers.core.Activation'>\n",
      "109 110 <class 'keras.layers.convolutional.Conv2D'> <class 'keras.layers.convolutional.Conv2D'>\n",
      "    (7, 7, 128, 128) (128,)\n",
      "111 112 <class 'keras.layers.core.Activation'> <class 'keras.layers.core.Activation'>\n",
      "113 114 <class 'keras.layers.convolutional.Conv2D'> <class 'keras.layers.convolutional.Conv2D'>\n",
      "    (7, 7, 128, 128) (128,)\n",
      "115 116 <class 'keras.layers.core.Activation'> <class 'keras.layers.core.Activation'>\n",
      "117 118 <class 'keras.layers.convolutional.Conv2D'> <class 'keras.layers.convolutional.Conv2D'>\n",
      "    (7, 7, 128, 128) (128,)\n",
      "119 120 <class 'keras.layers.core.Activation'> <class 'keras.layers.core.Activation'>\n",
      "121 122 <class 'keras.layers.convolutional.Conv2D'> <class 'keras.layers.convolutional.Conv2D'>\n",
      "    (1, 1, 128, 128) (128,)\n",
      "123 124 <class 'keras.layers.core.Activation'> <class 'keras.layers.core.Activation'>\n",
      "125 126 <class 'keras.layers.convolutional.Conv2D'> <class 'keras.layers.convolutional.Conv2D'>\n",
      "    (1, 1, 128, 19) (19,)\n",
      "127 <class 'keras.layers.merge.Concatenate'>\n",
      "\n",
      "128 129 <class 'keras.layers.convolutional.Conv2D'> <class 'keras.layers.convolutional.Conv2D'>\n",
      "    (7, 7, 185, 128) (128,)\n",
      "130 131 <class 'keras.layers.core.Activation'> <class 'keras.layers.core.Activation'>\n",
      "132 133 <class 'keras.layers.convolutional.Conv2D'> <class 'keras.layers.convolutional.Conv2D'>\n",
      "    (7, 7, 128, 128) (128,)\n",
      "134 135 <class 'keras.layers.core.Activation'> <class 'keras.layers.core.Activation'>\n",
      "136 137 <class 'keras.layers.convolutional.Conv2D'> <class 'keras.layers.convolutional.Conv2D'>\n",
      "    (7, 7, 128, 128) (128,)\n",
      "138 139 <class 'keras.layers.core.Activation'> <class 'keras.layers.core.Activation'>\n",
      "140 141 <class 'keras.layers.convolutional.Conv2D'> <class 'keras.layers.convolutional.Conv2D'>\n",
      "    (7, 7, 128, 128) (128,)\n",
      "142 143 <class 'keras.layers.core.Activation'> <class 'keras.layers.core.Activation'>\n",
      "144 145 <class 'keras.layers.convolutional.Conv2D'> <class 'keras.layers.convolutional.Conv2D'>\n",
      "    (7, 7, 128, 128) (128,)\n",
      "146 147 <class 'keras.layers.core.Activation'> <class 'keras.layers.core.Activation'>\n",
      "148 149 <class 'keras.layers.convolutional.Conv2D'> <class 'keras.layers.convolutional.Conv2D'>\n",
      "    (1, 1, 128, 128) (128,)\n",
      "150 151 <class 'keras.layers.core.Activation'> <class 'keras.layers.core.Activation'>\n",
      "152 153 <class 'keras.layers.convolutional.Conv2D'> <class 'keras.layers.convolutional.Conv2D'>\n",
      "    (1, 1, 128, 19) (19,)\n",
      "154 <class 'keras.layers.merge.Concatenate'>\n",
      "\n",
      "155 156 <class 'keras.layers.convolutional.Conv2D'> <class 'keras.layers.convolutional.Conv2D'>\n",
      "    (7, 7, 185, 128) (128,)\n",
      "157 158 <class 'keras.layers.core.Activation'> <class 'keras.layers.core.Activation'>\n",
      "159 160 <class 'keras.layers.convolutional.Conv2D'> <class 'keras.layers.convolutional.Conv2D'>\n",
      "    (7, 7, 128, 128) (128,)\n",
      "161 162 <class 'keras.layers.core.Activation'> <class 'keras.layers.core.Activation'>\n",
      "163 164 <class 'keras.layers.convolutional.Conv2D'> <class 'keras.layers.convolutional.Conv2D'>\n",
      "    (7, 7, 128, 128) (128,)\n",
      "165 166 <class 'keras.layers.core.Activation'> <class 'keras.layers.core.Activation'>\n",
      "167 168 <class 'keras.layers.convolutional.Conv2D'> <class 'keras.layers.convolutional.Conv2D'>\n",
      "    (7, 7, 128, 128) (128,)\n",
      "169 170 <class 'keras.layers.core.Activation'> <class 'keras.layers.core.Activation'>\n",
      "171 172 <class 'keras.layers.convolutional.Conv2D'> <class 'keras.layers.convolutional.Conv2D'>\n",
      "    (7, 7, 128, 128) (128,)\n",
      "173 174 <class 'keras.layers.core.Activation'> <class 'keras.layers.core.Activation'>\n",
      "175 176 <class 'keras.layers.convolutional.Conv2D'> <class 'keras.layers.convolutional.Conv2D'>\n",
      "    (1, 1, 128, 128) (128,)\n",
      "177 178 <class 'keras.layers.core.Activation'> <class 'keras.layers.core.Activation'>\n",
      "179 180 <class 'keras.layers.convolutional.Conv2D'> <class 'keras.layers.convolutional.Conv2D'>\n",
      "    (1, 1, 128, 19) (19,)\n"
     ]
    }
   ],
   "source": [
    "from keras import layers\n",
    "\n",
    "print len(model.layers)\n",
    "print \"VGG LAYERS\"\n",
    "for ii, layer in enumerate(model.layers[0:28]):\n",
    "    print ii, type(layer)\n",
    "print '\\n\\n'\n",
    "\n",
    "print \"DUAL CONV LAYERS\"\n",
    "\n",
    "duallen = len(model.layers[28:])\n",
    "\n",
    "stackoutput = False\n",
    "for ii in range(28, len(model.layers)):\n",
    "    ltype = str(type(model.layers[ii]))\n",
    "    if stackoutput:\n",
    "        one = model.layers[ii]\n",
    "        w = one.get_weights()\n",
    "        print ii - 1, ii, type(model.layers[ii]), ltype\n",
    "        if len(w):\n",
    "            print '   ', w[0].shape, w[1].shape\n",
    "        stackoutput = False\n",
    "    else:\n",
    "        if 'Conv2D' in ltype or 'Activation' in ltype:\n",
    "            stackoutput = True\n",
    "            continue\n",
    "        else:\n",
    "            print ii, type(model.layers[ii])\n",
    "            print ''"
   ]
  },
  {
   "cell_type": "code",
   "execution_count": 8,
   "metadata": {
    "collapsed": false
   },
   "outputs": [
    {
     "name": "stdout",
     "output_type": "stream",
     "text": [
      "(7, 7, 128, 128)\n",
      "[ 0.  0.  0.  0.  0.  0.  0.  0.  0.  0.  0.  0.  0.  0.  0.  0.  0.  0.\n",
      "  0.  0.  0.  0.  0.  0.  0.  0.  0.  0.  0.  0.  0.  0.  0.  0.  0.  0.\n",
      "  0.  0.  0.  0.  0.  0.  0.  0.  0.  0.  0.  0.  0.  0.  0.  0.  0.  0.\n",
      "  0.  0.  0.  0.  0.  0.  0.  0.  0.  0.  0.  0.  0.  0.  0.  0.  0.  0.\n",
      "  0.  0.  0.  0.  0.  0.  0.  0.  0.  0.  0.  0.  0.  0.  0.  0.  0.  0.\n",
      "  0.  0.  0.  0.  0.  0.  0.  0.  0.  0.  0.  0.  0.  0.  0.  0.  0.  0.\n",
      "  0.  0.  0.  0.  0.  0.  0.  0.  0.  0.  0.  0.  0.  0.  0.  0.  0.  0.\n",
      "  0.  0.]\n"
     ]
    }
   ],
   "source": [
    "print model.layers[167].get_weights()[0].shape\n",
    "print model.layers[167].get_weights()[1]"
   ]
  },
  {
   "cell_type": "markdown",
   "metadata": {},
   "source": [
    "## Not yet initialized.\n",
    "\n",
    "Weights have not been loaded yet. All filter weights should be zero and as a result, we should be seeing quick execution times albeit useless outputs."
   ]
  },
  {
   "cell_type": "code",
   "execution_count": 9,
   "metadata": {
    "collapsed": false
   },
   "outputs": [],
   "source": [
    "import cv2, time\n",
    "test_vidfile = '../Pose_Estimation/atl/2017-07-18/center field/491494-0f2bc458-5fff-4a7f-8965-69d751e7daaf.mp4'\n",
    "\n",
    "def process_video(model, proc_func, limit_frames=None):\n",
    "    tmin = 1000000000000\n",
    "    tmax = -1\n",
    "    tavg = 0\n",
    "    print test_vidfile\n",
    "    video_capture = None\n",
    "    video_capture = cv2.VideoCapture(test_vidfile)\n",
    "\n",
    "    results = []\n",
    "    frame_i = 0\n",
    "    while True:\n",
    "    # Capture frame-by-frame\n",
    "        ret, frame = video_capture.read()\n",
    "        if frame is None:\n",
    "            print(\"end of video capture\")\n",
    "            break\n",
    "        if frame_i % 10 is 0:\n",
    "            print 'Frame #:', frame_i\n",
    "        t0 = time.time()        \n",
    "        result = proc_func(model, frame)\n",
    "        results.append(result)\n",
    "        dt = time.time() - t0\n",
    "        tavg += dt\n",
    "        if tmin > dt: tmin = dt\n",
    "        if tmax < dt: tmax = dt\n",
    "        #pitcher = frame[top_p:bottom_p, left_p:right_p]\n",
    "        #batter = frame[top_b:bottom_b, left_b:right_b]\n",
    "        #df.loc[p]=[int(p),handle_one(pitcher),handle_one(batter) ]\n",
    "\n",
    "        frame_i += 1\n",
    "        if limit_frames and frame_i is limit_frames:\n",
    "            break\n",
    "    tavg /= float(frame_i)\n",
    "    print '| AVG: %.2f' % (tavg)\n",
    "    print '| MIN: %.2f' % (tmin)\n",
    "    print '| MAX: %.2f' % (tmax)\n",
    "    return results\n",
    "#     return (tavg, tmin, tmax)"
   ]
  },
  {
   "cell_type": "code",
   "execution_count": 11,
   "metadata": {
    "collapsed": false
   },
   "outputs": [
    {
     "name": "stdout",
     "output_type": "stream",
     "text": [
      "../Pose_Estimation/atl/2017-07-18/center field/491494-0f2bc458-5fff-4a7f-8965-69d751e7daaf.mp4\n",
      "Frame #: 0\n",
      "Frame #: 10\n",
      "Frame #: 20\n",
      "Frame #: 30\n",
      "Frame #: 40\n",
      "Frame #: 50\n",
      "Frame #: 60\n",
      "Frame #: 70\n",
      "Frame #: 80\n",
      "Frame #: 90\n",
      "Frame #: 100\n",
      "Frame #: 110\n",
      "Frame #: 120\n",
      "Frame #: 130\n",
      "Frame #: 140\n",
      "Frame #: 150\n",
      "Frame #: 160\n",
      "end of video capture\n",
      "| AVG: 0.00\n",
      "| MIN: 0.00\n",
      "| MAX: 0.00\n"
     ]
    }
   ],
   "source": [
    "def empty(model, frame):\n",
    "    pass\n",
    "\n",
    "res = process_video(model, empty)"
   ]
  },
  {
   "cell_type": "code",
   "execution_count": 10,
   "metadata": {
    "collapsed": false
   },
   "outputs": [],
   "source": [
    "# IMPORT PLAYER COORDS\n",
    "import ast\n",
    "for i in open(test_vidfile + '.dat').readlines():\n",
    "    datContent=ast.literal_eval(i)\n",
    "        \n",
    "bottom_p=datContent['Pitcher']['bottom']\n",
    "left_p=datContent['Pitcher']['left']\n",
    "right_p=datContent['Pitcher']['right']\n",
    "top_p=datContent['Pitcher']['top']"
   ]
  },
  {
   "cell_type": "code",
   "execution_count": 11,
   "metadata": {
    "collapsed": false
   },
   "outputs": [],
   "source": [
    "def evaluate(in_model, oriImg, scale=1.0):\n",
    "    imageToTest = cv2.resize(oriImg, (0,0), fx=scale, fy=scale, interpolation=cv2.INTER_CUBIC)\n",
    "    imageToTest_padded, pad = util.padRightDownCorner(imageToTest, model_['stride'], model_['padValue'])\n",
    "    input_img = np.transpose(np.float32(imageToTest_padded[:,:,:,np.newaxis]), (3,0,1,2))/256 - 0.5;\n",
    "\n",
    "    output1, output2 = in_model.predict(input_img)\n",
    "\n",
    "    # Replicating bilinear upsampling to heatmaps procedure.\n",
    "    resize_dict = {\n",
    "        resize_size: [oriImg.shape[0], oriImg.shape[1]],\n",
    "        raw_heatmap: output2,\n",
    "        raw_paf: output1,\n",
    "    }\n",
    "\n",
    "    heatmap, paf = session.run([resize_heatmap, resize_paf], feed_dict=resize_dict)\n",
    "    heatmap, paf = heatmap[0], paf[0]\n",
    "\n",
    "    return (output1, output2), (heatmap, paf)\n",
    "\n",
    "def handle_one_simple(in_model, oriImg):\n",
    "    multiplier = [x * model_['boxsize'] / oriImg.shape[0] for x in param_['scale_search']]\n",
    "\n",
    "    scale = model_['boxsize'] / float(oriImg.shape[0])\n",
    "\n",
    "    e=1\n",
    "    b=0\n",
    "    len_mul=e-b\n",
    "    multiplier=multiplier[b:e]\n",
    "    # heatmap_avg = TORCH_CUDA(torch.zeros((len(multiplier),19,oriImg.shape[0], oriImg.shape[1])))\n",
    "    # paf_avg = TORCH_CUDA(torch.zeros((len(multiplier),38,oriImg.shape[0], oriImg.shape[1])))\n",
    "    \n",
    "    results = []\n",
    "    for m in range(1): #len(multiplier)):\n",
    "        scale = multiplier[m]\n",
    "\n",
    "        (output1, output2), (heatmap, paf) = evaluate(in_model, oriImg, scale=scale)\n",
    "        results.append((heatmap, paf))\n",
    "\n",
    "    return results\n",
    "        #globals()['heatmap_avg_%s'%m] = heatmap\n",
    "        #globals()['paf_avg_%s'%m] = paf"
   ]
  },
  {
   "cell_type": "code",
   "execution_count": 12,
   "metadata": {
    "collapsed": false
   },
   "outputs": [
    {
     "name": "stdout",
     "output_type": "stream",
     "text": [
      "../Pose_Estimation/atl/2017-07-18/center field/491494-0f2bc458-5fff-4a7f-8965-69d751e7daaf.mp4\n",
      "Frame #: 0\n",
      "Frame #: 10\n",
      "Frame #: 20\n",
      "Frame #: 30\n",
      "Frame #: 40\n",
      "Frame #: 50\n",
      "Frame #: 60\n",
      "Frame #: 70\n",
      "Frame #: 80\n",
      "Frame #: 90\n",
      "Frame #: 100\n",
      "Frame #: 110\n",
      "Frame #: 120\n",
      "Frame #: 130\n",
      "Frame #: 140\n",
      "Frame #: 150\n",
      "Frame #: 160\n",
      "end of video capture\n",
      "| AVG: 0.13\n",
      "| MIN: 0.10\n",
      "| MAX: 1.55\n",
      "166 <type 'list'>\n",
      "0.0\n"
     ]
    }
   ],
   "source": [
    "def eval_model(in_model, frame):\n",
    "    pitcher = frame[top_p:bottom_p, left_p:right_p]\n",
    "    return handle_one_simple(in_model, pitcher)\n",
    "\n",
    "res = process_video(model, eval_model)\n",
    "print len(res), type(res[0])\n",
    "\n",
    "import numpy.linalg as LA\n",
    "def score_heatmaps(a, b):\n",
    "    return LA.norm(np.array(a) - np.array(b))\n",
    "\n",
    "print score_heatmaps(res[0][0][1][0], res[0][0][1][0])"
   ]
  },
  {
   "cell_type": "code",
   "execution_count": 13,
   "metadata": {
    "collapsed": false
   },
   "outputs": [
    {
     "data": {
      "text/plain": [
       "100.00005"
      ]
     },
     "execution_count": 13,
     "metadata": {},
     "output_type": "execute_result"
    }
   ],
   "source": [
    "bad_arr = np.copy(res[0][0][1][0])\n",
    "bad_arr[0][0] = 100\n",
    "\n",
    "score_heatmaps(res[0][0][1][0], bad_arr)"
   ]
  },
  {
   "cell_type": "code",
   "execution_count": 14,
   "metadata": {
    "collapsed": false
   },
   "outputs": [
    {
     "name": "stdout",
     "output_type": "stream",
     "text": [
      "<type 'tuple'> <type 'numpy.ndarray'>\n",
      "(19, 222, 291)\n"
     ]
    }
   ],
   "source": [
    "# res - all frames\n",
    "# res[0] - all mults in frame\n",
    "# res[0][0] - heatmap,paf pair\n",
    "# res[0][0][0] - heatmap\n",
    "# res[0][0][1] - paf\n",
    "\n",
    "print type(res[0][0]), type(res[0][0][0])\n",
    "h1, p1 = res[0][0]\n",
    "print h1.shape"
   ]
  },
  {
   "cell_type": "code",
   "execution_count": 15,
   "metadata": {
    "collapsed": false
   },
   "outputs": [
    {
     "name": "stdout",
     "output_type": "stream",
     "text": [
      "Close score: 0.0\n",
      "Bad score: 1705.87\n"
     ]
    }
   ],
   "source": [
    "from numpy import linalg as LA\n",
    "\n",
    "def score_mats(a, b):\n",
    "    return LA.norm(a - b)\n",
    "    \n",
    "print 'Close score:', score_mats(h1, h1)\n",
    "\n",
    "h2 = np.copy(h1)\n",
    "h2[0][0] = 100\n",
    "\n",
    "print 'Bad score:', score_mats(h1, h2)\n",
    "    "
   ]
  },
  {
   "cell_type": "markdown",
   "metadata": {},
   "source": [
    "### ^ Running times measured with weights as 0"
   ]
  },
  {
   "cell_type": "code",
   "execution_count": 16,
   "metadata": {
    "collapsed": false
   },
   "outputs": [
    {
     "name": "stdout",
     "output_type": "stream",
     "text": [
      "(7, 7, 128, 128)\n",
      "[ 0.33225948  0.16188022  0.27922881  0.01869457  0.2429717   0.04713162\n",
      "  0.04273088  0.03856203  0.08375378  0.22445051 -0.03753312  0.28361431\n",
      "  0.43102345  0.08991333 -0.25694507  0.29533273 -0.54563618  0.19100149\n",
      " -0.12199891  0.1655786   0.22925213 -0.02104932  0.13171312  0.1694825\n",
      "  0.16371267  0.1409096  -0.17146735  0.39046121  0.11737511  0.28404894\n",
      "  0.07402838 -0.02940818  0.00414771  0.08003046  0.09546474  0.02906054\n",
      "  0.15117237  0.18039274  0.01010426  0.13829383  0.22488749 -0.39809573\n",
      "  0.20629252  0.26374558  0.20252872  0.2310368   0.40361959  0.24086778\n",
      "  0.17147592  0.22884029  0.04008362  0.16657349  0.33752474  0.29427883\n",
      "  0.30120459  0.2103582   0.0777486   0.24689034  0.08535825  0.2736448\n",
      "  0.10019904 -0.02264843  0.18083756  0.23046485  0.0244466   0.26060003\n",
      "  0.04701021  0.11287675  0.43217793  0.12824084  0.10439596  0.04660356\n",
      "  0.30289069  0.38710156  0.05434372  0.0263001   0.21180336  0.15619536\n",
      "  0.17551981  0.08537221  0.18048693  0.02387017  0.20748436  0.26167715\n",
      "  0.01378002  0.24743316  0.17519245  0.34758422  0.06146902 -0.36928484\n",
      "  0.02191496  0.20856169 -0.17575623  0.61153966  0.30044976  0.28622347\n",
      "  0.19677661  0.21822011  0.08579495  0.02369338  0.15764058  0.1619688\n",
      "  0.11763383  0.84812105  0.23513044  0.13053401  0.07364613  0.524032\n",
      "  0.09723723 -0.247982    0.22322939  0.06665053  0.07198988 -0.81643063\n",
      "  0.19876    -0.22350508  0.03769839  0.14752331  0.33325586  0.14458849\n",
      "  0.14069064  0.26711226  0.05033395  0.30187026  0.21760324  0.10963178\n",
      "  0.08787648  0.1330349 ]\n"
     ]
    }
   ],
   "source": [
    "model.load_weights('../Pose_Estimation/model/keras/model.h5')\n",
    "print model.layers[167].get_weights()[0].shape\n",
    "print model.layers[167].get_weights()[1]"
   ]
  },
  {
   "cell_type": "code",
   "execution_count": 17,
   "metadata": {
    "collapsed": false
   },
   "outputs": [
    {
     "name": "stdout",
     "output_type": "stream",
     "text": [
      "../Pose_Estimation/atl/2017-07-18/center field/491494-0f2bc458-5fff-4a7f-8965-69d751e7daaf.mp4\n",
      "Frame #: 0\n",
      "Frame #: 10\n",
      "Frame #: 20\n",
      "Frame #: 30\n",
      "Frame #: 40\n",
      "Frame #: 50\n",
      "Frame #: 60\n",
      "Frame #: 70\n",
      "Frame #: 80\n",
      "Frame #: 90\n",
      "Frame #: 100\n",
      "Frame #: 110\n",
      "Frame #: 120\n",
      "Frame #: 130\n",
      "Frame #: 140\n",
      "Frame #: 150\n",
      "Frame #: 160\n",
      "end of video capture\n",
      "| AVG: 0.12\n",
      "| MIN: 0.10\n",
      "| MAX: 1.93\n"
     ]
    }
   ],
   "source": [
    "res = process_video(model, eval_model)"
   ]
  },
  {
   "cell_type": "markdown",
   "metadata": {},
   "source": [
    "### ^ Running time with loaded weights\n",
    "\n",
    "We observe that merely setting weights as zero is not enough to allow the model to execute less computations and run faster since the model with all-zero weights is still as slow."
   ]
  },
  {
   "cell_type": "markdown",
   "metadata": {},
   "source": [
    "### v Attempting to compress a conv layer:"
   ]
  },
  {
   "cell_type": "code",
   "execution_count": 18,
   "metadata": {
    "collapsed": false
   },
   "outputs": [
    {
     "name": "stdout",
     "output_type": "stream",
     "text": [
      "[ 0.33225948  0.16188022  0.27922881  0.01869457  0.2429717   0.04713162\n",
      "  0.04273088  0.03856203  0.08375378  0.22445051 -0.03753312  0.28361431\n",
      "  0.43102345  0.08991333 -0.25694507  0.29533273 -0.54563618  0.19100149\n",
      " -0.12199891  0.1655786   0.22925213 -0.02104932  0.13171312  0.1694825\n",
      "  0.16371267  0.1409096  -0.17146735  0.39046121  0.11737511  0.28404894\n",
      "  0.07402838 -0.02940818  0.00414771  0.08003046  0.09546474  0.02906054\n",
      "  0.15117237  0.18039274  0.01010426  0.13829383  0.22488749 -0.39809573\n",
      "  0.20629252  0.26374558  0.20252872  0.2310368   0.40361959  0.24086778\n",
      "  0.17147592  0.22884029  0.04008362  0.16657349  0.33752474  0.29427883\n",
      "  0.30120459  0.2103582   0.0777486   0.24689034  0.08535825  0.2736448\n",
      "  0.10019904 -0.02264843  0.18083756  0.23046485  0.0244466   0.26060003\n",
      "  0.04701021  0.11287675  0.43217793  0.12824084  0.10439596  0.04660356\n",
      "  0.30289069  0.38710156  0.05434372  0.0263001   0.21180336  0.15619536\n",
      "  0.17551981  0.08537221  0.18048693  0.02387017  0.20748436  0.26167715\n",
      "  0.01378002  0.24743316  0.17519245  0.34758422  0.06146902 -0.36928484\n",
      "  0.02191496  0.20856169 -0.17575623  0.61153966  0.30044976  0.28622347\n",
      "  0.19677661  0.21822011  0.08579495  0.02369338  0.15764058  0.1619688\n",
      "  0.11763383  0.84812105  0.23513044  0.13053401  0.07364613  0.524032\n",
      "  0.09723723 -0.247982    0.22322939  0.06665053  0.07198988 -0.81643063\n",
      "  0.19876    -0.22350508  0.03769839  0.14752331  0.33325586  0.14458849\n",
      "  0.14069064  0.26711226  0.05033395  0.30187026  0.21760324  0.10963178\n",
      "  0.08787648  0.1330349 ]\n",
      "(7, 7, 128, 128)\n",
      "(128,)\n"
     ]
    }
   ],
   "source": [
    "print model.layers[167].get_weights()[1]\n",
    "\n",
    "print model.layers[167].get_weights()[0].shape\n",
    "print model.layers[167].get_weights()[1].shape"
   ]
  },
  {
   "cell_type": "code",
   "execution_count": 19,
   "metadata": {
    "collapsed": false
   },
   "outputs": [
    {
     "data": {
      "text/plain": [
       "array([[ 0.03029647,  0.00396605, -0.01184436, -0.01877654, -0.02074762,\n",
       "        -0.01491766,  0.01166502],\n",
       "       [ 0.02185721,  0.00605996,  0.00205936, -0.00481522, -0.00218862,\n",
       "        -0.01049094, -0.00118118],\n",
       "       [-0.00584516, -0.01067294,  0.00918679,  0.00959865,  0.01321678,\n",
       "         0.0098823 ,  0.01702033],\n",
       "       [-0.0027399 ,  0.01211182,  0.00437674,  0.03253631,  0.02338811,\n",
       "         0.00211443, -0.00920425],\n",
       "       [ 0.0098976 ,  0.01133183,  0.00939519,  0.02332295,  0.02883945,\n",
       "         0.01355346,  0.00222959],\n",
       "       [ 0.0129158 ,  0.00164046,  0.01252869,  0.00104425, -0.00444787,\n",
       "         0.00526712, -0.00129448],\n",
       "       [-0.0055336 , -0.01271433, -0.01079961,  0.01181586,  0.01208683,\n",
       "         0.0019507 ,  0.01048657]], dtype=float32)"
      ]
     },
     "execution_count": 19,
     "metadata": {},
     "output_type": "execute_result"
    }
   ],
   "source": [
    "convs = model.layers[167].get_weights()[0]\n",
    "biases = model.layers[167].get_weights()[1]\n",
    "convs[:, :, 0, 0] # one learned filter patch"
   ]
  },
  {
   "cell_type": "markdown",
   "metadata": {},
   "source": [
    "\n",
    "### Weights Shape\n",
    "\n",
    "> W - (7, 7, 128, 128)\n",
    "\n",
    "128 filters are learned (# channels) per 7x7 patch.\n",
    "\n",
    "Desired output shape shares the same dimensions (128) so the mult matrix per patch is actually\n",
    "> 7 x 7 x (in_dim) x (out_dim)\n",
    "\n",
    "hence the dimension of W.\n",
    "\n",
    "The bias vector share the same # entries as the output dimension:\n",
    "\n",
    "> b - (128,) = (out_dim)\n",
    "\n",
    "Bias vector has one entry per output dimension (= 128).\n",
    "When computing, bias is added to every output mult result.\n",
    "\n",
    "### Input Shape\n",
    "\n",
    "Intput is expected to be arbitrary W and H and # channels of 128.\n",
    "\n",
    "> (128, W, H)\n",
    "\n",
    "### Output Shape\n",
    "\n",
    "The output of this layer would have a result in an arrangement of (W-7)x(H-7).\n",
    "\n",
    "Each entry in the arrangement would be have 128 dimensions.\n",
    "\n",
    "The dimensions in_n=1..128 and out_n=1..128 are conserved in this case.\n",
    "\n"
   ]
  },
  {
   "cell_type": "code",
   "execution_count": 20,
   "metadata": {
    "collapsed": false
   },
   "outputs": [
    {
     "name": "stdout",
     "output_type": "stream",
     "text": [
      "(3, 3, 64, 64) (64,)\n"
     ]
    }
   ],
   "source": [
    "layer = model.layers[3]\n",
    "print layer.get_weights()[0].shape, layer.get_weights()[1].shape"
   ]
  },
  {
   "cell_type": "markdown",
   "metadata": {},
   "source": [
    "### Earlier conv layers are usually the most expensive\n",
    "\n",
    "Finding some reduction method for the earlier layers may result in speedups.\n",
    "\n",
    "`layer` is the 2nd convolution layer in the 1st-stage vgg network that takes 64 channels and conserves the dimensions.\n",
    "\n",
    "We attempt SVD decomposition and connection reduction on this layer.\n",
    "\n"
   ]
  },
  {
   "cell_type": "code",
   "execution_count": 21,
   "metadata": {
    "collapsed": false
   },
   "outputs": [
    {
     "name": "stdout",
     "output_type": "stream",
     "text": [
      "(3, 3, 64)\n",
      "[[-0.10936957  0.15005523 -0.04029116]\n",
      " [ 0.04042277 -0.06922769 -0.07077912]\n",
      " [-0.03791877 -0.10314231  0.09958952]]\n",
      "(9, 64)\n",
      "[-0.10936957  0.15005523 -0.04029116  0.04042277 -0.06922769 -0.07077912\n",
      " -0.03791877 -0.10314231  0.09958952]\n",
      "(9, 9) (9,) (64, 64)\n",
      "[ 1.26218319  1.1229651   0.57471257  0.41662958  0.35424715  0.27273801\n",
      "  0.22902067  0.20994011  0.14623086]\n"
     ]
    }
   ],
   "source": [
    "channel_0 = layer.get_weights()[0][:, :, :, 0] # first channel\n",
    "print channel_0.shape\n",
    "print channel_0[:, :, 0]\n",
    "channel_cat = np.reshape(channel_0, (9, 64))\n",
    "print channel_cat.shape\n",
    "print channel_cat[:,0]\n",
    "# 3x3 is collapsed to 1D of 9\n",
    "import numpy.linalg as LA\n",
    "U, s, V = LA.svd(channel_cat)\n",
    "print U.shape, s.shape, V.shape\n",
    "print s"
   ]
  },
  {
   "cell_type": "code",
   "execution_count": 22,
   "metadata": {
    "collapsed": false
   },
   "outputs": [
    {
     "name": "stdout",
     "output_type": "stream",
     "text": [
      "(9, 64, 64)\n",
      "(64, 64)\n",
      "(64, 64) (64,) (64, 64)\n",
      "First ten: [ 1.68854952  1.13499653  1.02085984  0.96429825  0.92295772  0.82010114\n",
      "  0.74534029  0.68003124  0.62897962  0.60386407]\n",
      "Last ten : [ 0.02761863  0.02505889  0.020816    0.01811702  0.01792852  0.0122165\n",
      "  0.00728893  0.00576114  0.00378746  0.0018456 ]\n",
      "Is same: (64, 64) True\n"
     ]
    }
   ],
   "source": [
    "flat_layer = np.reshape(layer.get_weights()[0], (9, 64, 64))\n",
    "print flat_layer.shape\n",
    "\n",
    "mn = flat_layer[0, :, :]\n",
    "print mn.shape\n",
    "#print channel_cat[:,0]\n",
    "# 3x3 is collapsed to 1D of 9\n",
    "\n",
    "U, s, V = LA.svd(mn)\n",
    "print U.shape, s.shape, V.shape\n",
    "print 'First ten:',  s[:10]\n",
    "print 'Last ten :', s[-10:]\n",
    "\n",
    "reconstr = np.dot(U, np.dot(np.diag(s), V))\n",
    "\n",
    "print 'Is same:', reconstr.shape, LA.norm(reconstr - mn) < 0.0001"
   ]
  },
  {
   "cell_type": "code",
   "execution_count": 23,
   "metadata": {
    "collapsed": false
   },
   "outputs": [
    {
     "name": "stdout",
     "output_type": "stream",
     "text": [
      "Is same: (64, 64) False\n",
      "0.0001 False\n",
      "0.001 False\n",
      "0.01 False\n",
      "0.1 False\n",
      "1 False\n",
      "2 True\n",
      "5 True\n",
      "10 True\n"
     ]
    }
   ],
   "source": [
    "keep = 10\n",
    "\n",
    "small_s = s[:keep]\n",
    "small_recon = np.dot(U[:, :keep], np.dot(np.diag(small_s), V[:keep, :]))\n",
    "\n",
    "print 'Is same:', small_recon.shape, LA.norm(small_recon - mn) < 0.0001\n",
    "\n",
    "offby = [0.0001, 0.001, 0.01, 0.1, 1, 2, 5, 10]\n",
    "for scale in offby:\n",
    "    print scale, LA.norm(small_recon - mn) < scale"
   ]
  },
  {
   "cell_type": "code",
   "execution_count": 24,
   "metadata": {
    "collapsed": false
   },
   "outputs": [],
   "source": [
    "%matplotlib inline\n",
    "import matplotlib.pyplot as plt\n",
    "\n",
    "\n",
    "def plot_some_filters(weights, numplot=3):\n",
    "    some = weights[:, :, :numplot**2, 0]\n",
    "    fig, axes = plt.subplots(numplot, numplot)\n",
    "    for ii in range(numplot**2):\n",
    "        axes.flat[ii].imshow(some[:, :, ii], interpolation='nearest', cmap='Reds')\n",
    "        axes.flat[ii].set_xticks([])\n",
    "        axes.flat[ii].set_yticks([])\n",
    "    plt.show()\n",
    "    \n",
    "def plot_filter_comparison(w1, w2, numplot=1):\n",
    "    \n",
    "    fig, axes = plt.subplots(numplot, 2)\n",
    "    \n",
    "    filter_i = 0\n",
    "    for ii, ax in enumerate(axes.flat):\n",
    "        if ii % 2 is 0:\n",
    "            f1 = w1[:, :, filter_i, 0]\n",
    "            ax.imshow(f1, interpolation='nearest', cmap='Reds')\n",
    "            ax.set_xticks([])\n",
    "            ax.set_yticks([])\n",
    "            ax.set_title('Og[%d][%d]: 64 x 64' % (filter_i, 0))\n",
    "        else:\n",
    "            f1 = w1[:, :, filter_i, 0]\n",
    "            f2 = w2[:, :, filter_i, 0]\n",
    "            loss = LA.norm(f1 - f2)\n",
    "            ax.imshow(f2, interpolation='nearest', cmap='Reds')\n",
    "            ax.set_xticks([])\n",
    "            ax.set_yticks([])\n",
    "            ax.set_title('Cmp[%d][%d]: 64 x 16 o 16 x 64 - L %.2f' % (filter_i, 0, loss))\n",
    "            filter_i += 1\n",
    "\n",
    "#     for ii in range(numplot):\n",
    "    plt.show()\n",
    "    \n",
    "# plot_some_filters(layer.get_weights()[0], numplot=2)"
   ]
  },
  {
   "cell_type": "code",
   "execution_count": 25,
   "metadata": {
    "collapsed": false
   },
   "outputs": [],
   "source": [
    "def compress_conv2d_layer(weights, keep=10):\n",
    "    flat_layer = np.reshape(weights, (9, 64, 64))\n",
    "    result = np.zeros(flat_layer.shape)\n",
    "\n",
    "    for xy in range(9):\n",
    "        mn = flat_layer[xy, :, :]\n",
    "        \n",
    "        U, s, V = LA.svd(mn)\n",
    "\n",
    "        small_s = s[:keep]\n",
    "        small_recon = np.dot(U[:, :keep], np.dot(np.diag(small_s), V[:keep, :]))\n",
    "\n",
    "        print 'Loss[%d]: %.1f' % (xy, LA.norm(small_recon - mn))\n",
    "        result[xy, :, :] = small_recon\n",
    "    result = np.reshape(result, weights.shape)\n",
    "    return result"
   ]
  },
  {
   "cell_type": "code",
   "execution_count": 26,
   "metadata": {
    "collapsed": false
   },
   "outputs": [
    {
     "name": "stdout",
     "output_type": "stream",
     "text": [
      "Loss[0]: 1.1\n",
      "Loss[1]: 1.0\n",
      "Loss[2]: 1.1\n",
      "Loss[3]: 1.0\n",
      "Loss[4]: 1.0\n",
      "Loss[5]: 1.0\n",
      "Loss[6]: 1.1\n",
      "Loss[7]: 1.0\n",
      "Loss[8]: 1.1\n",
      "(3, 3, 64, 64)\n"
     ]
    }
   ],
   "source": [
    "comp_weights = compress_conv2d_layer(layer.get_weights()[0], 16)\n",
    "print comp_weights.shape"
   ]
  },
  {
   "cell_type": "code",
   "execution_count": 27,
   "metadata": {
    "collapsed": false
   },
   "outputs": [
    {
     "data": {
      "image/png": "[encoded data removed]",
      "text/plain": [
       "<matplotlib.figure.Figure at 0x2b86b2146cd0>"
      ]
     },
     "metadata": {},
     "output_type": "display_data"
    }
   ],
   "source": [
    "# plot_some_filters(comp_weights, numplot=2)\n",
    "# plot_some_filters(layer.get_weights()[0], numplot=2)\n",
    "\n",
    "plot_filter_comparison(layer.get_weights()[0], comp_weights, 3)\n"
   ]
  },
  {
   "cell_type": "markdown",
   "metadata": {
    "collapsed": true
   },
   "source": [
    "### ^ SVD-ing for each coord in the filter dimension independently produces questionable results.\n",
    "\n",
    "Splitting on the filter (ex. 3x3 in 3x3xD1xD2) dimension can produce the greatest compression as D1 and D2 are large quantities.\n",
    "\n",
    "> 3 x 3 x D1 x D2\n",
    "\n",
    "> => 9 x D1 x D2\n",
    "\n",
    "> => 9_1 x D1 x D2, 9_2 x D1 x D2, ..., 9_9 x D1 x D2\n",
    "\n",
    "However, a filter/kernel is defined by its local shape and compressing ignores the local properties. \n",
    "\n",
    "Ultimately the loss in data may produce uncontrollably different looking filters."
   ]
  },
  {
   "cell_type": "markdown",
   "metadata": {},
   "source": [
    "### v We attempt to SVD the entire weight matrix by reshaping it drastically from 4D->2D\n",
    "\n",
    "Hopefully keeping the matrix intact will preserve the local information."
   ]
  },
  {
   "cell_type": "code",
   "execution_count": 28,
   "metadata": {
    "collapsed": false
   },
   "outputs": [],
   "source": [
    "def flat_compress(weights, keep=10):\n",
    "    flat_layer = np.reshape(weights, (3 * 3 * 64, 64))\n",
    "    result = np.zeros(flat_layer.shape)\n",
    "    U, s, V = LA.svd(flat_layer)\n",
    "    print U.shape, s.shape, V.shape\n",
    "    \n",
    "    small_s = s[:keep]\n",
    "    small_recon = np.dot(U[:, :keep], np.dot(np.diag(small_s), V[:keep, :]))\n",
    "\n",
    "    print 'Loss: %.1f' % (LA.norm(small_recon - flat_layer))\n",
    "    \n",
    "    result = np.reshape(small_recon, weights.shape)\n",
    "    return result\n"
   ]
  },
  {
   "cell_type": "code",
   "execution_count": 29,
   "metadata": {
    "collapsed": false
   },
   "outputs": [
    {
     "name": "stdout",
     "output_type": "stream",
     "text": [
      "(576, 576) (64,) (64, 64)\n",
      "Loss: 5.9\n",
      "(3, 3, 64, 64)\n",
      "______________________\n",
      "4D -> 2D\n"
     ]
    },
    {
     "data": {
      "image/png": "[encoded data removed]",
      "text/plain": [
       "<matplotlib.figure.Figure at 0x2b86efe0d290>"
      ]
     },
     "metadata": {},
     "output_type": "display_data"
    },
    {
     "name": "stdout",
     "output_type": "stream",
     "text": [
      "______________________\n",
      "4D -> xy-deconstruction -> 2D\n"
     ]
    },
    {
     "data": {
      "image/png": "[encoded data removed]",
      "text/plain": [
       "<matplotlib.figure.Figure at 0x2b86effc1410>"
      ]
     },
     "metadata": {},
     "output_type": "display_data"
    }
   ],
   "source": [
    "c2_layer = flat_compress(layer.get_weights()[0], 16)\n",
    "print c2_layer.shape\n",
    "\n",
    "print '______________________'\n",
    "print '4D -> 2D'\n",
    "plot_filter_comparison(layer.get_weights()[0], c2_layer, 2)\n",
    "\n",
    "print '______________________'\n",
    "print '4D -> xy-deconstruction -> 2D'\n",
    "plot_filter_comparison(layer.get_weights()[0], comp_weights, 2)\n",
    "\n"
   ]
  },
  {
   "cell_type": "code",
   "execution_count": 30,
   "metadata": {
    "collapsed": false
   },
   "outputs": [],
   "source": [
    "##### from keras.layers.convolutional import _Conv\n",
    "# from keras.engine.topology import Layer\n",
    "# from keras.engine import InputSpec\n",
    "# from keras.utils import conv_utils\n",
    "# from keras.layers import activations, initializers, regularizers, constraints\n",
    "\n",
    "from keras import backend as K\n",
    "from keras.engine.topology import Layer\n",
    "import numpy as np\n",
    "\n",
    "class IdentityLayer(Layer):\n",
    "\n",
    "    def __init__(self, output_dim, input_dim, **kwargs):\n",
    "        self.output_dim = 64\n",
    "#         self.input_dim = (None, None, None, input_dim,)\n",
    "#         kwargs['input_shape'] = (None, None, None, input_dim,)\n",
    "#         kwargs['output_shape'] = (None, None, None, output_dim,)\n",
    "        super(IdentityLayer, self).__init__(**kwargs)\n",
    "\n",
    "    def build(self, input_shape):\n",
    "        # Create a trainable weight variable for this layer.\n",
    "        print 'Input to identity:', input_shape\n",
    "#         self.kernel = self.add_weight(name='kernel', \n",
    "#                                       shape=(64, 64),\n",
    "#                                       initializer='uniform',\n",
    "#                                       trainable=True)\n",
    "        super(IdentityLayer, self).build(input_shape)  # Be sure to call this somewhere!\n",
    "\n",
    "    def call(self, in_mat):\n",
    "#         return K.dot(x, self.kernel)\n",
    "        return in_mat\n",
    "\n",
    "    def compute_output_shape(self, input_shape):\n",
    "        return (input_shape[0], input_shape[1], input_shape[2], self.output_dim)"
   ]
  },
  {
   "cell_type": "markdown",
   "metadata": {},
   "source": [
    "> Original  : `3 * 3 * 64 * 64`\n",
    "\n",
    "> Flattened : `576 * 64`\n",
    "\n",
    "> Decomposed: `3 * 3 * 64 * 10` and `10 * 64`\n",
    "\n",
    "This means that each coord will have 10 channels - each point must be further multipled by the 10 * 64 to complete the original operation.\n",
    "\n",
    "In this manner, every conv layer in the model can technically be replaced with two such layers. (But accuracy may fall drastically after the first couple)"
   ]
  },
  {
   "cell_type": "code",
   "execution_count": 31,
   "metadata": {
    "collapsed": false
   },
   "outputs": [
    {
     "name": "stdout",
     "output_type": "stream",
     "text": [
      "<__main__.IdentityLayer object at 0x2b86efb16a90>\n"
     ]
    }
   ],
   "source": [
    "# by def. equal to a Conv2D\n",
    "test_layer = IdentityLayer(64, 64)\n",
    "print test_layer"
   ]
  },
  {
   "cell_type": "code",
   "execution_count": 32,
   "metadata": {
    "collapsed": false
   },
   "outputs": [
    {
     "data": {
      "text/plain": [
       "181"
      ]
     },
     "execution_count": 32,
     "metadata": {},
     "output_type": "execute_result"
    }
   ],
   "source": [
    "len(model.layers)"
   ]
  },
  {
   "cell_type": "markdown",
   "metadata": {},
   "source": [
    "### ^ Identity layer behaves correctly\n",
    "\n",
    "This will be the base template to creating more advanced custom layers."
   ]
  }
 ],
 "metadata": {
  "kernelspec": {
   "display_name": "Python 2",
   "language": "python",
   "name": "python2"
  },
  "language_info": {
   "codemirror_mode": {
    "name": "ipython",
    "version": 2
   },
   "file_extension": ".py",
   "mimetype": "text/x-python",
   "name": "python",
   "nbconvert_exporter": "python",
   "pygments_lexer": "ipython2",
   "version": "2.7.12"
  }
 },
 "nbformat": 4,
 "nbformat_minor": 2
}
