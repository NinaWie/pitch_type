{
 "cells": [
  {
   "cell_type": "markdown",
   "metadata": {},
   "source": [
    "### open json file with all results and csv with standard deviations"
   ]
  },
  {
   "cell_type": "code",
   "execution_count": null,
   "metadata": {
    "collapsed": true
   },
   "outputs": [],
   "source": [
    "import pandas as pd\n",
    "path = \"all_first_move_tests.json\"\n",
    "# path = \"/Users/ninawiedemann/Desktop/UNI/Praktikum/ALL/notebooks_data/all_first_move_tests.json\"\n",
    "with open(path, \"r\") as infile:\n",
    "    dic = json.load(infile)\n",
    "print(dic.keys())\n",
    "#df = pd.read_csv(\"first_move_evaluation.csv\")\n",
    "#print(df.columns.tolist())\n",
    "#print(df[\"Unnamed: 0\"])"
   ]
  },
  {
   "cell_type": "code",
   "execution_count": null,
   "metadata": {
    "collapsed": true
   },
   "outputs": [],
   "source": [
    "for i in range(7):\n",
    "    for j in range(275):\n",
    "        new[i,j] = float(new[i,j])\n",
    "\n",
    "#dic = {\"release\": new[0].tolist(), \"label\": new[1].tolist(), \"every_2\":new[2].tolist(), \"every_3\":new[3].tolist(), \"every_4\":new[4].tolist(), \"every_5\":new[5].tolist(), \"3_refined\":new[6].tolist()}\n",
    "dic[\"position\"] = position[:275]\n",
    "with open(\"all_first_move_tests.json\", \"w\") as outfile:\n",
    "    json.dump(dic, outfile)"
   ]
  },
  {
   "cell_type": "code",
   "execution_count": null,
   "metadata": {
    "collapsed": true
   },
   "outputs": [],
   "source": [
    "# print(np.array(outputs).shape)\n",
    "# new = np.array(outputs)[:, 0, :]\n",
    "#new = np.append(np.array([outputs[0][1], outputs[0][2]]), np.array(new), axis = 0)\n",
    "def scatter_plot(l):\n",
    "    plt.scatter(np.arange(len(l[0])),l[0], label = \"release frame index\", c = \"green\")\n",
    "    plt.scatter(np.arange(len(l[0])), l[1], label = \"Statcast\", c = \"red\")\n",
    "    plt.scatter(np.arange(len(l[0])), l[2], label = \"every 3rd refined\", c=\"blue\")\n",
    "\n",
    "    \n",
    "# COMPARE labels and 3 refined_nograd:\n",
    "fig = plt.figure(figsize = (20,10))\n",
    "scatter_plot([dic[\"release\"], dic[\"label\"], dic[\"3_refined_nograd\"]])\n",
    "# plt.title(\"label vs 3 refined - blue: refined, red: label\")\n",
    "plt.legend(bbox_to_anchor=(0., 1.02, 1., .102), loc=3,\n",
    "           ncol=3, mode=\"expand\", borderaxespad=0., fontsize=20)\n",
    "plt.xlabel(\"Data example\", fontsize=20)\n",
    "plt.ylabel(\"frame index\", fontsize=20)\n",
    "plt.show()\n",
    "\n",
    "\n",
    "# SHOW LABELS SEPERATED BY WINDUP AND STRETCH\n",
    "inds = np.where(np.array(dic[\"position\"])==\"Windup\")[0]\n",
    "inds_st = np.where(np.array(dic[\"position\"])==\"Stretch\")[0]\n",
    "vals_wind = np.array(dic[\"label\"])[inds]\n",
    "vals_stretch = np.array(dic[\"label\"])[inds_st]\n",
    "\n",
    "plt.figure(figsize=(20,5))\n",
    "plt.subplot(1,2,1)\n",
    "plt.hist(vals_wind, bins= np.arange(0, 110))\n",
    "plt.title(\"windup\")\n",
    "plt.subplot(1,2,2)\n",
    "plt.hist(vals_stretch, bins= np.arange(0, 110))\n",
    "plt.title(\"stretch\")\n",
    "plt.show()\n",
    "\n",
    "# WINDUP\n",
    "every_3_wind = np.array(dic[\"every_3\"])[inds]\n",
    "every_4_wind =  np.array(dic[\"every_4\"])[inds]\n",
    "fig = plt.figure(figsize = (20,10))\n",
    "# plt.style.use('ggplot')\n",
    "plt.subplot(1,2,1)\n",
    "scatter_plot([vals_wind, every_3_wind, every_4_wind])\n",
    "plt.title(\"windup\")\n",
    "# plt.legend()\n",
    "# plt.show()\n",
    "\n",
    "# STRETCH\n",
    "every_3_set = np.array(dic[\"every_3\"])[inds_st]\n",
    "every_4_set =  np.array(dic[\"every_4\"])[inds_st]\n",
    "# plt.style.use('ggplot')\n",
    "plt.subplot(1,2,2)\n",
    "scatter_plot([vals_stretch, every_3_set, every_4_set])\n",
    "plt.title(\"stretch\")\n",
    "plt.legend()\n",
    "plt.show()\n",
    "\n",
    "# ALL\n",
    "fig = plt.figure(figsize = (20,10))\n",
    "# plt.style.use('ggplot')\n",
    "scatter_plot([dic[\"label\"], dic[\"every_3\"], dic[\"every_4\"]])\n",
    "plt.legend()\n",
    "plt.title(\"ALL\")\n",
    "plt.show()\n",
    "#plt.grid(True)\n",
    "#from matplotlib2tikz import save as tikz_save\n",
    "#tikz_save('test.tex')\n",
    "\n",
    "# COMPARE 3 and 3 refined_nograd:\n",
    "fig = plt.figure(figsize = (20,10))\n",
    "scatter_plot([dic[\"release\"], dic[\"every_3\"], dic[\"3_refined_nograd\"]])\n",
    "plt.title(\"3 vs 3 refined - blue: refined, red: normal3\")\n",
    "plt.show()\n",
    "\n",
    "\n",
    "\n",
    "# DIFFERENCE FROM EACH OTHER\n",
    "label_error = np.array(dic[\"3_refined\"])-np.array(dic[\"every_3\"])\n",
    "plt.plot(label_error)\n",
    "plt.show()\n",
    "print(np.mean(label_error))"
   ]
  },
  {
   "cell_type": "markdown",
   "metadata": {},
   "source": [
    "### save recent output in dictionary"
   ]
  },
  {
   "cell_type": "code",
   "execution_count": null,
   "metadata": {
    "collapsed": true
   },
   "outputs": [],
   "source": [
    "a = detected_first_move.copy()\n",
    "b = label_release_frame.copy()[:-1]\n",
    "c = label_first_move.copy()\n",
    "print(len(a),len(b),len(c))\n",
    "assert(c==dic[\"label\"])\n",
    "d = np.array([a,b,c])\n",
    "print(d.shape)\n",
    "\n",
    "np.save(\"first_move_outputs_every_3_ref_without_gradient.npy\", a)\n",
    "\n",
    "dic[\"3_refined_nograd\"]= np.array(a).astype(np.float32).tolist()\n",
    "with open(\"all_first_move_tests.json\", \"w\") as outfile:\n",
    "    json.dump(dic, outfile)"
   ]
  },
  {
   "cell_type": "markdown",
   "metadata": {},
   "source": [
    "### histograms of dictionary"
   ]
  },
  {
   "cell_type": "code",
   "execution_count": null,
   "metadata": {
    "collapsed": true
   },
   "outputs": [],
   "source": [
    "for i in list(dic.keys()):\n",
    "    plt.hist(dic[i], bins=np.arange(120))\n",
    "    plt.title(i)\n",
    "    plt.show()"
   ]
  },
  {
   "cell_type": "markdown",
   "metadata": {},
   "source": [
    "### form csv with standard deviations and outliers"
   ]
  },
  {
   "cell_type": "code",
   "execution_count": null,
   "metadata": {
    "collapsed": true
   },
   "outputs": [],
   "source": [
    "new_column = \"3_refined_nograd\"\n",
    "new_column_values = dic[new_column]\n",
    "a = np.round(np.mean(new_column_values),3)\n",
    "b = np.round(np.std(new_column_values),3)\n",
    "c = np.sum(np.absolute(new_column_values-np.mean(new_column_values)) > 3*b)/275\n",
    "d = np.sum(np.absolute(new_column_values-np.mean(new_column_values)) > 2*b)/275\n",
    "e = np.sum(np.absolute(new_column_values-np.mean(new_column_values)) > 1*b)/275\n",
    "l = [e,d,c,b,a]\n",
    "print(l)\n",
    "d = pd.Series(l)\n",
    "df[\"every_3_refined\"]=d\n",
    "print(df)\n",
    "df.to_csv(\"first_move_evaluation.csv\")"
   ]
  },
  {
   "cell_type": "code",
   "execution_count": null,
   "metadata": {
    "collapsed": true
   },
   "outputs": [],
   "source": [
    "# dic = {\"every_2\":[], \"every_3\":[], \"every_4\":[], \"every_5\":[], \"label\":[]}\n",
    "#with open(\"all_first_move_tests.json\", \"r\") as infile:\n",
    "#    dic = json.load(infile)\n",
    "dic[\"every_3_refined\"] = dic.pop(\"3_refined_nograd\")\n",
    "dic_new = {}\n",
    "for d in list(dic.keys()):\n",
    "    if d==\"release\" or d== \"position\" or d==\"3_refined\":\n",
    "        continue\n",
    "    print(d)\n",
    "    # rel_detect = np.array(d[1]-d[0])\n",
    "    rel_detect = np.asarray(dic[d])\n",
    "    mean = np.mean(rel_detect)\n",
    "    std = np.std(rel_detect)\n",
    "    more_than_2std = np.sum(np.absolute(rel_detect-np.mean(rel_detect))> 2*std)/len(rel_detect)\n",
    "    more_than_3std = np.sum(np.absolute(rel_detect-np.mean(rel_detect))> 3*std)/len(rel_detect)\n",
    "    #print(more_than_2std)\n",
    "    # print(np.sum(more_than_2std))\n",
    "    dic_new[d] = [mean, std, more_than_2std, more_than_3std]\n",
    "    print(d, dic_new[d])\n",
    "\n",
    "#d = outputs[1]\n",
    "#rel_lab = np.array(d[1]-d[2])\n",
    "#std_2 = np.std(rel_lab)\n",
    "#more_than_2std_2 = np.absolute(rel_lab-np.mean(rel_lab))> 3*std_2\n",
    "#print(np.sum(more_than_2std_2))\n",
    "#dic[\"label\"].append(np.mean(rel_lab))\n",
    "\n",
    "# print(dic)"
   ]
  },
  {
   "cell_type": "code",
   "execution_count": null,
   "metadata": {
    "collapsed": true
   },
   "outputs": [],
   "source": [
    "\"\"\"\n",
    "for key in dic_new.keys():\n",
    "    new = []\n",
    "    for i in range(len(dic_new[key])):\n",
    "        new.append(round(dic_new[key][i], 4))\n",
    "    dic_new[key] = new\n",
    "    print(new)\n",
    "print(dic_new)\n",
    "\"\"\"\n",
    "df = pd.DataFrame.from_dict(dic_new)\n",
    "df = df.round(2)\n",
    "df = df.rename(index = {0: \"mean\", 1:\"std\",2: \"percentage >2*std\", 3: \"percentage >3*std\" })\n",
    "df = df.rename(columns = {\"3_refined_nograd\": \"every_3_refined\"})\n",
    "print(df.columns.tolist())\n",
    "df.to_csv(\"first_move_evaluation.csv\")\n",
    "#with open(\"dic_with_first_move_evaluation.json\", \"w\") as outfile:\n",
    " #   json.dump(dic, outfile)"
   ]
  },
  {
   "cell_type": "markdown",
   "metadata": {},
   "source": [
    "### For position and gradient retrieval"
   ]
  },
  {
   "cell_type": "code",
   "execution_count": null,
   "metadata": {
    "collapsed": true
   },
   "outputs": [],
   "source": [
    "arr = np.array(outputs[2])\n",
    "j=0\n",
    "#old = pd.read_csv(\"/Users/ninawiedemann/Desktop/UNI/Praktikum/ALL/cf_data_cut.csv\")\n",
    "cf_list = old[\"Pitching Position (P)\"].values\n",
    "print(cf_list)\n",
    "position  = []\n",
    "cf_play_list = old[\"play_id\"].values.tolist()\n",
    "refined = []\n",
    "for bsp in (os.listdir(path)):\n",
    "    if bsp[-4:]!=\".mp4\":\n",
    "        continue\n",
    "    BASE = path+ bsp # \"/Volumes/Nina Backup/CENTERFIELD bsp videos/3d69a818-568e-4eef-9d63-24687477e7ee.mp4\" # minarea 50\n",
    "    # print(bsp)\n",
    "    joints_path = \"/Volumes/Nina Backup/outputs/new_videos/cf/490770_\"+ bsp[:-4] + \"_pitcher.json\" #3d69a818-568e-4eef-9d63-24687477e7ee_pitcher.json\"\n",
    "    if not os.path.exists(joints_path):\n",
    "        print(\"file existiert nicht\", joints_path)\n",
    "        continue\n",
    "    joints = from_json(joints_path)[:,:12,:]\n",
    "    # print(joints.shape)\n",
    "    \n",
    "    #print(bsp, cf_play_list)\n",
    "    if bsp[:-4] in cf_play_list:\n",
    "        position.append(cf_list[cf_play_list.index(bsp[:-4])])\n",
    "        # print(pos)\n",
    "    else: \n",
    "        position.append(\"Unknown\")\n",
    "    continue\n",
    "    \n",
    "    for i in open(BASE+\".dat\").readlines():\n",
    "        datContent=ast.literal_eval(i)\n",
    "    rel_frame = datContent[\"pitch_frame_index\"]\n",
    "    label_first_move = datContent[\"first_movement_frame_index\"]\n",
    "\n",
    "    assert(rel_frame == arr[1,j])\n",
    "    assert(label_first_move == arr[2,j])\n",
    "    first_move_frame = arr[0,j]\n",
    "    range_joints = joints[first_move_frame -10: first_move_frame +10]\n",
    "    grad = np.gradient(range_joints, axis = 0)\n",
    "    plt.plot(grad[:,:,1])\n",
    "    #plt.show()\n",
    "    mean_gradient = np.mean(grad[:, [7,8,10,11],1], axis = 1)\n",
    "    plt.plot(mean_gradient, c = \"black\")\n",
    "    plt.show()\n",
    "    print(\"previous\", first_move_frame, \"new\", first_move_frame-10+np.argmin(mean_gradient))\n",
    "    refined.append(first_move_frame-10+np.argmin(mean_gradient))\n",
    "    j+=1\n",
    "    \n",
    "print(position, len(position))"
   ]
  }
 ],
 "metadata": {
  "kernelspec": {
   "display_name": "Python 3",
   "language": "python",
   "name": "python3"
  },
  "language_info": {
   "codemirror_mode": {
    "name": "ipython",
    "version": 3
   },
   "file_extension": ".py",
   "mimetype": "text/x-python",
   "name": "python",
   "nbconvert_exporter": "python",
   "pygments_lexer": "ipython3",
   "version": "3.5.2"
  }
 },
 "nbformat": 4,
 "nbformat_minor": 1
}
