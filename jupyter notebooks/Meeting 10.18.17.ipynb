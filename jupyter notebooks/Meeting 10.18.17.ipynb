{
 "cells": [
  {
   "cell_type": "markdown",
   "metadata": {},
   "source": [
    "# First movement pitcher"
   ]
  },
  {
   "cell_type": "markdown",
   "metadata": {},
   "source": [
    "### Difference image approach:\n",
    "\n",
    "* Processing:\n",
    "    * gray values\n",
    "    * diff image: one subtracted from the next one\n",
    "    * smoothed with gaussian filtering\n",
    "* Different methods:\n",
    "    * count pixels of difference image above threshold\n",
    "    * take mean difference --> move if higher threshold\n",
    "    * if mean difference higher than mean of mean differences (baseline)\n",
    "    \n",
    "Too hard to find threshold, to dependend on illumination etc."
   ]
  },
  {
   "cell_type": "markdown",
   "metadata": {},
   "source": [
    "### Take 1D gradient of Y coordinates of joints\n",
    "\n",
    "* take minimum frame of left leg movement and right leg movement\n",
    "* improvement: take frame only if consequtive frame als has more than threshold gradient (now works for video above as well)\n",
    "* accuracy around 80%\n",
    "* Gaussian smoothing used to avoid noise in gradient\n",
    "\n",
    "\n",
    "* worked on SV and on CF data\n",
    "* might work really well with better camera and joint output\n",
    "\n",
    "* false: 15/75, \n"
   ]
  },
  {
   "cell_type": "markdown",
   "metadata": {},
   "source": [
    "###  Neural network real time (sequences)\n",
    "\n",
    "* train to distinguish between positive (is first movement) and negative (is not first movement) sequences \n",
    "* took sequence length of 20 frames, overlapping such that checked every 10th\n",
    "* test acc for that: 95%\n",
    "* tested by taking maximum of these outputs\n",
    "* accuracy if normalized per sequence: 75%\n",
    "* accuracy if normalized whole pitch: 90%\n",
    "\n",
    "* sequences of 10 frames: accuracy that ground truth label less than 5 away: 65%"
   ]
  },
  {
   "cell_type": "markdown",
   "metadata": {},
   "source": [
    "### Neural network all frames\n",
    "\n",
    "* label one hot vector of 167 --> frame number as output\n",
    "* accuracy five frames more or less: 93%"
   ]
  },
  {
   "cell_type": "markdown",
   "metadata": {},
   "source": [
    "### Take release frame into account:\n",
    "\n",
    "* NN with bins for relase frame: 90% accuracy on first movement moment in range of 5 frames"
   ]
  },
  {
   "cell_type": "markdown",
   "metadata": {
    "collapsed": true
   },
   "source": [
    "### WRONG ONES\n",
    "    \n",
    "490972-1049b32d-1ca7-4b26-ad1e-e58ad5ad9dc9\n",
    "\n",
    "490972-f473c66c-0c5b-43b1-b985-b423ccc36bf2\n",
    "\n",
    "490972-63731b5a-4823-4d0b-933c-70b675f15f69\n",
    "\n",
    "490972-979c7968-8533-4a2a-bee1-db75f05e0696 \n",
    "\n",
    "490972-01c36310-b871-4132-9fa7-49d01b56b941"
   ]
  },
  {
   "cell_type": "markdown",
   "metadata": {
    "collapsed": true
   },
   "source": [
    "# First movement batter"
   ]
  },
  {
   "cell_type": "markdown",
   "metadata": {
    "collapsed": true
   },
   "source": [
    "### gradient method on only one video\n",
    "\n",
    "2017-05-03/center field/490509-3f640b3f-9ba5-4e89-8f72-97c9f333aa2c.mp4\n",
    "\n",
    "* Start of the swing: Upper body (shoulders, elbows, wrist) Y coordinate --> moving down during swing\n",
    "* Start of run: lower body moving to the left --> X coordinate"
   ]
  },
  {
   "cell_type": "markdown",
   "metadata": {
    "collapsed": false
   },
   "source": [
    "### DTAK method:\n",
    "\n",
    "* align sequences and find shift"
   ]
  },
  {
   "cell_type": "markdown",
   "metadata": {
    "collapsed": true
   },
   "source": [
    "### Problems:\n",
    "\n",
    "* label not hit into play, but still start to run\n",
    "* label hit into play, but don't run \n",
    "\n",
    "wrong guy detected: \n",
    "* 83764a69-2028-4530-8188-f7c37162d403\n",
    "* 46188b82-c795-42e4-8eb1-db3d616d3b4f\n",
    "* 889613f9-85f0-4043-864b-f0d486a9816e\n",
    "* 6f014362-1788-43d7-a3fe-91059be02304"
   ]
  },
  {
   "cell_type": "markdown",
   "metadata": {},
   "source": []
  },
  {
   "cell_type": "markdown",
   "metadata": {},
   "source": [
    "# Futher ideas:\n",
    "\n",
    "* Train on pictures of pitchers with their legs raised\n",
    "    * +: real time\n",
    "    * -: still missing out all the Stretch pitcher without raised leg\n",
    "    * PROBLEM: no labels\n",
    " * Use batter side information (left or right handed --> which leg raised --> use only these trajectories\n",
    "     * \"Batter side\"\n",
    "     * \"Pitcher throws\" (\"L\" or \"R\")"
   ]
  },
  {
   "cell_type": "markdown",
   "metadata": {},
   "source": [
    "# Test v0 output\n",
    "\n",
    "* show example of json file"
   ]
  },
  {
   "cell_type": "code",
   "execution_count": null,
   "metadata": {
    "collapsed": true
   },
   "outputs": [],
   "source": [
    "import cv2\n",
    "import numpy as np\n",
    "import json\n",
    "import matplotlib.pylab as plt\n",
    "import time\n",
    "from os import listdir\n",
    "coordinates = [\"x\", \"y\"]\n",
    "joints_list = [\"right_shoulder\", \"left_shoulder\", \"right_elbow\", \"right_wrist\",\"left_elbow\", \"left_wrist\",\n",
    "            \"right_hip\", \"right_knee\", \"right_ankle\", \"left_hip\", \"left_knee\", \"left_ankle\", \"neck \",\n",
    "            \"right_eye\", \"right_ear\",\"left_eye\", \"left_ear\"]"
   ]
  },
  {
   "cell_type": "code",
   "execution_count": null,
   "metadata": {
    "collapsed": true
   },
   "outputs": [],
   "source": [
    "def get_filesystem_dic(path, view):\n",
    "    dic = {}\n",
    "    for d in listdir(path):\n",
    "        dic[d] = listdir(path+d+\"/\"+view)\n",
    "    return dic\n",
    "\n",
    "def get_paths_from_games(game_ids, path_videos, view):\n",
    "    dic = get_filesystem_dic(path_videos, view)\n",
    "    # print(dic)\n",
    "    dates_belonging = []\n",
    "    for g in game_ids:\n",
    "        print(g)\n",
    "        if view == \"side view\":\n",
    "            new = g+\".m4v\"\n",
    "        else:\n",
    "            new = g+\".mp4\"\n",
    "        for key in dic.keys():\n",
    "            #print(key)\n",
    "            if new in dic[key]:\n",
    "                #print(\"found\")\n",
    "                dates_belonging.append(key)\n",
    "    # assert(len(game_ids)==len(dates_belonging))\n",
    "    return dates_belonging[0]"
   ]
  },
  {
   "cell_type": "code",
   "execution_count": null,
   "metadata": {
    "collapsed": false
   },
   "outputs": [],
   "source": [
    "def from_json(file):\n",
    "    tic = time.time()\n",
    "    with open(file, 'r') as inf:\n",
    "        out = json.load(inf)\n",
    "    position = out[\"Pitching position\"]\n",
    "    pitchtype = out[\"Pitch Type\"]\n",
    "    liste = []\n",
    "    events = {}\n",
    "    for i, fr in enumerate(out[\"frames\"]):\n",
    "        l_joints = []\n",
    "        for j in joints_list[:12]:\n",
    "            l_coo = []\n",
    "            for xy in coordinates:\n",
    "                l_coo.append(fr[j][xy])\n",
    "            l_joints.append(l_coo)\n",
    "        if fr[\"events\"]!=[]:\n",
    "            for eve in fr[\"events\"]:\n",
    "                events[eve[\"name\"]] = i\n",
    "        liste.append(l_joints)\n",
    "\n",
    "    print(time.time()-tic)\n",
    "    return np.array(liste), events, position, pitchtype"
   ]
  },
  {
   "cell_type": "code",
   "execution_count": null,
   "metadata": {
    "collapsed": false,
    "scrolled": true
   },
   "outputs": [],
   "source": [
    "infile = \"v0testing/490524-3d1c4681-2808-4148-bb66-38ddda9ed59f_pitcher_joints.json\"\n",
    "# 490524-0de95d55-8dc1-4f0d-9e9d-d0672ff847b3_pitcher_joints.json\" zum vorzeigen nehmen \n",
    "\n",
    "path_videos = \"/Volumes/Nina Backup/videos/atl/\"\n",
    "\n",
    "array, events, position, pitchtype = from_json(infile)\n",
    "game_id = (infile.split(\"_\")[0]).split(\"/\")[-1]\n",
    "print(game_id)\n",
    "date = get_paths_from_games(np.array([game_id]), path_videos, \"center field\")\n",
    "print(date)\n",
    "\n",
    "print(\"POSITION: \", position)\n",
    "print(\"PITCH TYPE: \", pitchtype)\n",
    "\n",
    "#print(path_videos+date+\"/center field/\"+game_id+\"mp4\")\n",
    "cap = cv2.VideoCapture(path_videos+date+\"/center field/\"+game_id+\".mp4\")\n",
    "i=0\n",
    "while True:\n",
    "    ret, frame = cap.read()\n",
    "    if frame is None:\n",
    "        break\n",
    "    if i ==events[\"first_move\"]:\n",
    "        print(\"FIRST MOVE\")\n",
    "    if i ==events[\"release_frame\"]:\n",
    "        print(\"RELEASE FRAME\")\n",
    "    plt.imshow(frame)\n",
    "    plt.show()\n",
    "    i+=1"
   ]
  },
  {
   "cell_type": "markdown",
   "metadata": {},
   "source": [
    "# 3D VNECT NETWORK OUTPUT"
   ]
  },
  {
   "cell_type": "markdown",
   "metadata": {},
   "source": []
  },
  {
   "cell_type": "code",
   "execution_count": null,
   "metadata": {
    "collapsed": true
   },
   "outputs": [],
   "source": [
    "path = \"/Users/ninawiedemann/Desktop/UNI/Praktikum/\"\n",
    "import scipy.io as sio\n",
    "\n",
    "content = sio.loadmat(path+\"outputs.mat\")"
   ]
  },
  {
   "cell_type": "code",
   "execution_count": null,
   "metadata": {
    "collapsed": false
   },
   "outputs": [],
   "source": [
    "heatmap = content[\"heatmap\"]\n",
    "xmap = content[\"xmap\"]\n",
    "ymap = content[\"ymap\"]\n",
    "zmap = content[\"zmap\"]\n",
    "print(heatmap.shape, xmap.shape, ymap.shape, zmap.shape)"
   ]
  },
  {
   "cell_type": "code",
   "execution_count": null,
   "metadata": {
    "collapsed": false
   },
   "outputs": [],
   "source": [
    "#pic = plt.imread(path+\"pic121.jpg\")\n",
    "\n",
    "path2= \"/Users/ninawiedemann/Desktop/UNI/Praktikum/numpy arrays/all_frames.npy\"\n",
    "arr = np.load(path2)\n",
    "print(arr.shape)"
   ]
  },
  {
   "cell_type": "code",
   "execution_count": null,
   "metadata": {
    "collapsed": false
   },
   "outputs": [],
   "source": [
    "for pic in arr:\n",
    "    plt.figure()\n",
    "    plt.imshow(pic[:,:,0])\n",
    "    plt.show()"
   ]
  },
  {
   "cell_type": "code",
   "execution_count": null,
   "metadata": {
    "collapsed": false
   },
   "outputs": [],
   "source": [
    "bsp = 10\n",
    "third = 2\n",
    "%matplotlib notebook\n",
    "from mpl_toolkits.mplot3d import Axes3D\n",
    "\n",
    "fig = plt.figure()\n",
    "ax = fig.add_subplot(111, projection='3d')\n",
    "for i in range(21):\n",
    "    ax.scatter(ymap[bsp, third, i], xmap[bsp, third, i],  zmap[bsp, third, i], c = \"r\")\n",
    "plt.show()"
   ]
  },
  {
   "cell_type": "markdown",
   "metadata": {},
   "source": [
    "# Sequence clustering"
   ]
  },
  {
   "cell_type": "code",
   "execution_count": 1,
   "metadata": {
    "collapsed": false,
    "scrolled": false
   },
   "outputs": [
    {
     "name": "stdout",
     "output_type": "stream",
     "text": [
      "(2776, 50, 12, 2)\n",
      "0\n"
     ]
    },
    {
     "ename": "KeyboardInterrupt",
     "evalue": "",
     "output_type": "error",
     "traceback": [
      "\u001b[0;31m---------------------------------------------------------------------------\u001b[0m",
      "\u001b[0;31mKeyboardInterrupt\u001b[0m                         Traceback (most recent call last)",
      "\u001b[0;32m<ipython-input-1-baddb865f275>\u001b[0m in \u001b[0;36m<module>\u001b[0;34m()\u001b[0m\n\u001b[1;32m      6\u001b[0m \u001b[0;31m#visualize(data[:,:,6,1], 10)\u001b[0m\u001b[0;34m\u001b[0m\u001b[0;34m\u001b[0m\u001b[0m\n\u001b[1;32m      7\u001b[0m \u001b[0;31m# pca_data = do_pca(data,2)\u001b[0m\u001b[0;34m\u001b[0m\u001b[0;34m\u001b[0m\u001b[0m\n\u001b[0;32m----> 8\u001b[0;31m \u001b[0mcentroids\u001b[0m\u001b[0;34m,\u001b[0m \u001b[0massignments\u001b[0m \u001b[0;34m=\u001b[0m \u001b[0mk_means_clust\u001b[0m\u001b[0;34m(\u001b[0m\u001b[0mdata\u001b[0m\u001b[0;34m,\u001b[0m \u001b[0mnr_classes\u001b[0m\u001b[0;34m,\u001b[0m \u001b[0;36m40\u001b[0m\u001b[0;34m)\u001b[0m\u001b[0;34m\u001b[0m\u001b[0m\n\u001b[0m\u001b[1;32m      9\u001b[0m \u001b[0;31m# print(assignments)\u001b[0m\u001b[0;34m\u001b[0m\u001b[0;34m\u001b[0m\u001b[0m\n",
      "\u001b[0;32m/Users/ninawiedemann/Desktop/UNI/Praktikum/ALL/notebooks/backups_notebooks.py\u001b[0m in \u001b[0;36mk_means_clust\u001b[0;34m(data, num_clust, num_iter, w)\u001b[0m\n\u001b[1;32m    227\u001b[0m                  \u001b[0;31m#   cur_dist=DTWDistance(i,j,w)\u001b[0m\u001b[0;34m\u001b[0m\u001b[0;34m\u001b[0m\u001b[0m\n\u001b[1;32m    228\u001b[0m                     \u001b[0;31m# if cur_dist<min_dist:\u001b[0m\u001b[0;34m\u001b[0m\u001b[0;34m\u001b[0m\u001b[0m\n\u001b[0;32m--> 229\u001b[0;31m                 \u001b[0mcur_dist\u001b[0m \u001b[0;34m=\u001b[0m \u001b[0mdist_dtak\u001b[0m\u001b[0;34m(\u001b[0m\u001b[0mi\u001b[0m\u001b[0;34m,\u001b[0m\u001b[0mj\u001b[0m\u001b[0;34m)\u001b[0m \u001b[0;31m# pearson_distance(i,j)\u001b[0m\u001b[0;34m\u001b[0m\u001b[0m\n\u001b[0m\u001b[1;32m    230\u001b[0m                 \u001b[0;31m#print(cur_dist)\u001b[0m\u001b[0;34m\u001b[0m\u001b[0;34m\u001b[0m\u001b[0m\n\u001b[1;32m    231\u001b[0m                 \u001b[0;32mif\u001b[0m \u001b[0mcur_dist\u001b[0m\u001b[0;34m<\u001b[0m\u001b[0mmin_dist\u001b[0m\u001b[0;34m:\u001b[0m\u001b[0;34m\u001b[0m\u001b[0m\n",
      "\u001b[0;32m/Users/ninawiedemann/Desktop/UNI/Praktikum/ALL/notebooks/backups_notebooks.py\u001b[0m in \u001b[0;36mdist_dtak\u001b[0;34m(play, template)\u001b[0m\n\u001b[1;32m    198\u001b[0m         \u001b[0mx\u001b[0m \u001b[0;34m=\u001b[0m \u001b[0mplay\u001b[0m\u001b[0;34m[\u001b[0m\u001b[0;34m:\u001b[0m\u001b[0;34m,\u001b[0m\u001b[0mjoint\u001b[0m\u001b[0;34m,\u001b[0m\u001b[0mxy\u001b[0m\u001b[0;34m]\u001b[0m\u001b[0;34m\u001b[0m\u001b[0m\n\u001b[1;32m    199\u001b[0m         \u001b[0my\u001b[0m \u001b[0;34m=\u001b[0m \u001b[0mtemplate\u001b[0m\u001b[0;34m[\u001b[0m\u001b[0;34m:\u001b[0m\u001b[0;34m,\u001b[0m\u001b[0mjoint\u001b[0m\u001b[0;34m,\u001b[0m\u001b[0mxy\u001b[0m\u001b[0;34m]\u001b[0m\u001b[0;34m\u001b[0m\u001b[0m\n\u001b[0;32m--> 200\u001b[0;31m         \u001b[0mdist\u001b[0m\u001b[0;34m,\u001b[0m \u001b[0mcost\u001b[0m\u001b[0;34m,\u001b[0m \u001b[0macc\u001b[0m\u001b[0;34m,\u001b[0m \u001b[0mpath\u001b[0m \u001b[0;34m=\u001b[0m \u001b[0mfastdtw\u001b[0m\u001b[0;34m(\u001b[0m\u001b[0mx\u001b[0m\u001b[0;34m,\u001b[0m \u001b[0my\u001b[0m\u001b[0;34m,\u001b[0m \u001b[0mdist\u001b[0m\u001b[0;34m=\u001b[0m\u001b[0;32mlambda\u001b[0m \u001b[0mx\u001b[0m\u001b[0;34m,\u001b[0m \u001b[0my\u001b[0m\u001b[0;34m:\u001b[0m \u001b[0mnp\u001b[0m\u001b[0;34m.\u001b[0m\u001b[0mlinalg\u001b[0m\u001b[0;34m.\u001b[0m\u001b[0mnorm\u001b[0m\u001b[0;34m(\u001b[0m\u001b[0mx\u001b[0m \u001b[0;34m-\u001b[0m \u001b[0my\u001b[0m\u001b[0;34m)\u001b[0m\u001b[0;34m)\u001b[0m\u001b[0;34m\u001b[0m\u001b[0m\n\u001b[0m\u001b[1;32m    201\u001b[0m \u001b[0;34m\u001b[0m\u001b[0m\n\u001b[1;32m    202\u001b[0m         \u001b[0mpath_length\u001b[0m \u001b[0;34m=\u001b[0m \u001b[0mlen\u001b[0m\u001b[0;34m(\u001b[0m\u001b[0mpath\u001b[0m\u001b[0;34m[\u001b[0m\u001b[0;36m0\u001b[0m\u001b[0;34m]\u001b[0m\u001b[0;34m)\u001b[0m\u001b[0;34m\u001b[0m\u001b[0m\n",
      "\u001b[0;32m/Users/ninawiedemann/Desktop/UNI/Praktikum/ALL/notebooks/backups_notebooks.py\u001b[0m in \u001b[0;36mfastdtw\u001b[0;34m(x, y, dist)\u001b[0m\n\u001b[1;32m    121\u001b[0m     \u001b[0mD0\u001b[0m\u001b[0;34m[\u001b[0m\u001b[0;36m1\u001b[0m\u001b[0;34m:\u001b[0m\u001b[0;34m,\u001b[0m \u001b[0;36m0\u001b[0m\u001b[0;34m]\u001b[0m \u001b[0;34m=\u001b[0m \u001b[0minf\u001b[0m\u001b[0;34m\u001b[0m\u001b[0m\n\u001b[1;32m    122\u001b[0m     \u001b[0mD1\u001b[0m \u001b[0;34m=\u001b[0m \u001b[0mD0\u001b[0m\u001b[0;34m[\u001b[0m\u001b[0;36m1\u001b[0m\u001b[0;34m:\u001b[0m\u001b[0;34m,\u001b[0m \u001b[0;36m1\u001b[0m\u001b[0;34m:\u001b[0m\u001b[0;34m]\u001b[0m\u001b[0;34m\u001b[0m\u001b[0m\n\u001b[0;32m--> 123\u001b[0;31m     \u001b[0mD0\u001b[0m\u001b[0;34m[\u001b[0m\u001b[0;36m1\u001b[0m\u001b[0;34m:\u001b[0m\u001b[0;34m,\u001b[0m\u001b[0;36m1\u001b[0m\u001b[0;34m:\u001b[0m\u001b[0;34m]\u001b[0m \u001b[0;34m=\u001b[0m \u001b[0mcdist\u001b[0m\u001b[0;34m(\u001b[0m\u001b[0mx\u001b[0m\u001b[0;34m,\u001b[0m\u001b[0my\u001b[0m\u001b[0;34m,\u001b[0m\u001b[0mdist\u001b[0m\u001b[0;34m)\u001b[0m\u001b[0;34m\u001b[0m\u001b[0m\n\u001b[0m\u001b[1;32m    124\u001b[0m     \u001b[0mC\u001b[0m \u001b[0;34m=\u001b[0m \u001b[0mD1\u001b[0m\u001b[0;34m.\u001b[0m\u001b[0mcopy\u001b[0m\u001b[0;34m(\u001b[0m\u001b[0;34m)\u001b[0m\u001b[0;34m\u001b[0m\u001b[0m\n\u001b[1;32m    125\u001b[0m     \u001b[0;32mfor\u001b[0m \u001b[0mi\u001b[0m \u001b[0;32min\u001b[0m \u001b[0mrange\u001b[0m\u001b[0;34m(\u001b[0m\u001b[0mr\u001b[0m\u001b[0;34m)\u001b[0m\u001b[0;34m:\u001b[0m\u001b[0;34m\u001b[0m\u001b[0m\n",
      "\u001b[0;32m/Users/ninawiedemann/anaconda/lib/python3.5/site-packages/scipy/spatial/distance.py\u001b[0m in \u001b[0;36mcdist\u001b[0;34m(XA, XB, metric, p, V, VI, w)\u001b[0m\n\u001b[1;32m   2057\u001b[0m             \u001b[0;32mfor\u001b[0m \u001b[0mi\u001b[0m \u001b[0;32min\u001b[0m \u001b[0mxrange\u001b[0m\u001b[0;34m(\u001b[0m\u001b[0;36m0\u001b[0m\u001b[0;34m,\u001b[0m \u001b[0mmA\u001b[0m\u001b[0;34m)\u001b[0m\u001b[0;34m:\u001b[0m\u001b[0;34m\u001b[0m\u001b[0m\n\u001b[1;32m   2058\u001b[0m                 \u001b[0;32mfor\u001b[0m \u001b[0mj\u001b[0m \u001b[0;32min\u001b[0m \u001b[0mxrange\u001b[0m\u001b[0;34m(\u001b[0m\u001b[0;36m0\u001b[0m\u001b[0;34m,\u001b[0m \u001b[0mmB\u001b[0m\u001b[0;34m)\u001b[0m\u001b[0;34m:\u001b[0m\u001b[0;34m\u001b[0m\u001b[0m\n\u001b[0;32m-> 2059\u001b[0;31m                     \u001b[0mdm\u001b[0m\u001b[0;34m[\u001b[0m\u001b[0mi\u001b[0m\u001b[0;34m,\u001b[0m \u001b[0mj\u001b[0m\u001b[0;34m]\u001b[0m \u001b[0;34m=\u001b[0m \u001b[0mmetric\u001b[0m\u001b[0;34m(\u001b[0m\u001b[0mXA\u001b[0m\u001b[0;34m[\u001b[0m\u001b[0mi\u001b[0m\u001b[0;34m,\u001b[0m \u001b[0;34m:\u001b[0m\u001b[0;34m]\u001b[0m\u001b[0;34m,\u001b[0m \u001b[0mXB\u001b[0m\u001b[0;34m[\u001b[0m\u001b[0mj\u001b[0m\u001b[0;34m,\u001b[0m \u001b[0;34m:\u001b[0m\u001b[0;34m]\u001b[0m\u001b[0;34m)\u001b[0m\u001b[0;34m\u001b[0m\u001b[0m\n\u001b[0m\u001b[1;32m   2060\u001b[0m     \u001b[0;32melif\u001b[0m \u001b[0misinstance\u001b[0m\u001b[0;34m(\u001b[0m\u001b[0mmetric\u001b[0m\u001b[0;34m,\u001b[0m \u001b[0mstring_types\u001b[0m\u001b[0;34m)\u001b[0m\u001b[0;34m:\u001b[0m\u001b[0;34m\u001b[0m\u001b[0m\n\u001b[1;32m   2061\u001b[0m         \u001b[0mmstr\u001b[0m \u001b[0;34m=\u001b[0m \u001b[0mmetric\u001b[0m\u001b[0;34m.\u001b[0m\u001b[0mlower\u001b[0m\u001b[0;34m(\u001b[0m\u001b[0;34m)\u001b[0m\u001b[0;34m\u001b[0m\u001b[0m\n",
      "\u001b[0;32m/Users/ninawiedemann/Desktop/UNI/Praktikum/ALL/notebooks/backups_notebooks.py\u001b[0m in \u001b[0;36m<lambda>\u001b[0;34m(x, y)\u001b[0m\n\u001b[1;32m    198\u001b[0m         \u001b[0mx\u001b[0m \u001b[0;34m=\u001b[0m \u001b[0mplay\u001b[0m\u001b[0;34m[\u001b[0m\u001b[0;34m:\u001b[0m\u001b[0;34m,\u001b[0m\u001b[0mjoint\u001b[0m\u001b[0;34m,\u001b[0m\u001b[0mxy\u001b[0m\u001b[0;34m]\u001b[0m\u001b[0;34m\u001b[0m\u001b[0m\n\u001b[1;32m    199\u001b[0m         \u001b[0my\u001b[0m \u001b[0;34m=\u001b[0m \u001b[0mtemplate\u001b[0m\u001b[0;34m[\u001b[0m\u001b[0;34m:\u001b[0m\u001b[0;34m,\u001b[0m\u001b[0mjoint\u001b[0m\u001b[0;34m,\u001b[0m\u001b[0mxy\u001b[0m\u001b[0;34m]\u001b[0m\u001b[0;34m\u001b[0m\u001b[0m\n\u001b[0;32m--> 200\u001b[0;31m         \u001b[0mdist\u001b[0m\u001b[0;34m,\u001b[0m \u001b[0mcost\u001b[0m\u001b[0;34m,\u001b[0m \u001b[0macc\u001b[0m\u001b[0;34m,\u001b[0m \u001b[0mpath\u001b[0m \u001b[0;34m=\u001b[0m \u001b[0mfastdtw\u001b[0m\u001b[0;34m(\u001b[0m\u001b[0mx\u001b[0m\u001b[0;34m,\u001b[0m \u001b[0my\u001b[0m\u001b[0;34m,\u001b[0m \u001b[0mdist\u001b[0m\u001b[0;34m=\u001b[0m\u001b[0;32mlambda\u001b[0m \u001b[0mx\u001b[0m\u001b[0;34m,\u001b[0m \u001b[0my\u001b[0m\u001b[0;34m:\u001b[0m \u001b[0mnp\u001b[0m\u001b[0;34m.\u001b[0m\u001b[0mlinalg\u001b[0m\u001b[0;34m.\u001b[0m\u001b[0mnorm\u001b[0m\u001b[0;34m(\u001b[0m\u001b[0mx\u001b[0m \u001b[0;34m-\u001b[0m \u001b[0my\u001b[0m\u001b[0;34m)\u001b[0m\u001b[0;34m)\u001b[0m\u001b[0;34m\u001b[0m\u001b[0m\n\u001b[0m\u001b[1;32m    201\u001b[0m \u001b[0;34m\u001b[0m\u001b[0m\n\u001b[1;32m    202\u001b[0m         \u001b[0mpath_length\u001b[0m \u001b[0;34m=\u001b[0m \u001b[0mlen\u001b[0m\u001b[0;34m(\u001b[0m\u001b[0mpath\u001b[0m\u001b[0;34m[\u001b[0m\u001b[0;36m0\u001b[0m\u001b[0;34m]\u001b[0m\u001b[0;34m)\u001b[0m\u001b[0;34m\u001b[0m\u001b[0m\n",
      "\u001b[0;31mKeyboardInterrupt\u001b[0m: "
     ]
    }
   ],
   "source": [
    "from backups_notebooks import *\n",
    "nr_classes = 8\n",
    "# data, files, hit_into, play_outcome = get_data_run_norun()\n",
    "data, files, pitch_type = get_data_pitchtype()\n",
    "# data = get_data_pitcher_batter()\n",
    "#visualize(data[:,:,6,1], 10)\n",
    "# pca_data = do_pca(data,2)\n",
    "centroids, assignments = k_means_clust(data, nr_classes, 40)\n",
    "# print(assignments)"
   ]
  },
  {
   "cell_type": "code",
   "execution_count": null,
   "metadata": {
    "collapsed": false,
    "scrolled": true
   },
   "outputs": [],
   "source": [
    "for _, cent in enumerate(centroids):\n",
    "    for i in range(2):\n",
    "        plt.plot(cent[:,i], label=i)\n",
    "    plt.legend()\n",
    "    plt.show()\n",
    "output_per_ex = np.zeros(len(data))\n",
    "for i in range(nr_classes):\n",
    "    output_per_ex[assignments[i]] = i"
   ]
  },
  {
   "cell_type": "code",
   "execution_count": null,
   "metadata": {
    "collapsed": false,
    "scrolled": false
   },
   "outputs": [],
   "source": [
    "from scipy import stats\n",
    "classes = [\"down\", \"up\"]\n",
    "\"\"\"classes =  [\"fastball\", \"breaking ball\"]\n",
    "count = 0\n",
    "counts = [0,0,0]\n",
    "counts_total = [0,0,0]\n",
    "for i in range(len(data)):\n",
    "    if play_outcome[i]==classes[int(output_per_ex[i])]:\n",
    "        count+=1\n",
    "        counts[int(output_per_ex[i])]+=1\n",
    "    counts_total[int(output_per_ex[i])]+=1\n",
    "print(\"Accuracy: \", count/float(len(data)))\n",
    "print(\"correct\", np.array(counts)/np.array(counts_total))\"\"\"\n",
    "\n",
    "\n",
    "assign = [[] for _ in range(nr_classes)]\n",
    "\n",
    "for i in range(len(data)):\n",
    "    assign[int(output_per_ex[i])].append(pitch_type[i])\n",
    "\n",
    "for i in range(nr_classes):\n",
    "    note_frequency = stats.itemfreq(assign[i])\n",
    "    print(note_frequency)\n",
    "    print(\"total\", len(assign[i]))"
   ]
  },
  {
   "cell_type": "code",
   "execution_count": null,
   "metadata": {
    "collapsed": true
   },
   "outputs": [],
   "source": [
    "for i in range(10):\n",
    "    print(files[i])\n",
    "    print(pitch_type[i])\n",
    "    # print(play_outcome[i])\n",
    "    # c = \"run\" if i in run else \"no run\"\n",
    "    #print(\"cluster:\", classes[int(output_per_ex[i])])\n",
    "    print(int(output_per_ex[i]))\n",
    "    fig = plt.figure()\n",
    "    fig.add_subplot(211)\n",
    "    for j in range(12):\n",
    "        plt.plot(data[i,:,j,1])\n",
    "    plt.show()\n",
    "    fig.add_subplot(212)\n",
    "    for j in range(12):\n",
    "        plt.plot(data[i,:,j,0])\n",
    "    plt.show()"
   ]
  },
  {
   "cell_type": "code",
   "execution_count": null,
   "metadata": {
    "collapsed": true
   },
   "outputs": [],
   "source": []
  }
 ],
 "metadata": {
  "kernelspec": {
   "display_name": "Python 3",
   "language": "python",
   "name": "python3"
  },
  "language_info": {
   "codemirror_mode": {
    "name": "ipython",
    "version": 3
   },
   "file_extension": ".py",
   "mimetype": "text/x-python",
   "name": "python",
   "nbconvert_exporter": "python",
   "pygments_lexer": "ipython3",
   "version": "3.5.2"
  }
 },
 "nbformat": 4,
 "nbformat_minor": 1
}
